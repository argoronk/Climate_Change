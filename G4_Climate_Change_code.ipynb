{
 "cells": [
  {
   "cell_type": "code",
   "execution_count": 1,
   "id": "5dfe88f2",
   "metadata": {},
   "outputs": [],
   "source": [
    "# Import necessary libraries\n",
    "import numpy as np\n",
    "import pandas as pd\n",
    "import os\n",
    "from sklearn.model_selection import train_test_split\n",
    "from sklearn.preprocessing import StandardScaler\n",
    "from sklearn.ensemble import RandomForestClassifier\n",
    "from imblearn.ensemble import BalancedRandomForestClassifier\n",
    "from sklearn.metrics import roc_auc_score\n",
    "import matplotlib.pyplot as plt\n",
    "import seaborn as sns"
   ]
  },
  {
   "cell_type": "code",
   "execution_count": 2,
   "id": "7cd6bfca",
   "metadata": {},
   "outputs": [
    {
     "name": "stderr",
     "output_type": "stream",
     "text": [
      "C:\\Users\\arx33\\anaconda3\\envs\\IDS\\lib\\site-packages\\imblearn\\ensemble\\_forest.py:546: FutureWarning: The default of `sampling_strategy` will change from `'auto'` to `'all'` in version 0.13. This change will follow the implementation proposed in the original paper. Set to `'all'` to silence this warning and adopt the future behaviour.\n",
      "  warn(\n",
      "C:\\Users\\arx33\\anaconda3\\envs\\IDS\\lib\\site-packages\\imblearn\\ensemble\\_forest.py:558: FutureWarning: The default of `replacement` will change from `False` to `True` in version 0.13. This change will follow the implementation proposed in the original paper. Set to `True` to silence this warning and adopt the future behaviour.\n",
      "  warn(\n"
     ]
    },
    {
     "name": "stdout",
     "output_type": "stream",
     "text": [
      "AUC-ROC: 0.88\n",
      "Binary predictions for Abies_koreana.csv appended to the combined DataFrame\n"
     ]
    },
    {
     "name": "stderr",
     "output_type": "stream",
     "text": [
      "C:\\Users\\arx33\\anaconda3\\envs\\IDS\\lib\\site-packages\\imblearn\\ensemble\\_forest.py:546: FutureWarning: The default of `sampling_strategy` will change from `'auto'` to `'all'` in version 0.13. This change will follow the implementation proposed in the original paper. Set to `'all'` to silence this warning and adopt the future behaviour.\n",
      "  warn(\n",
      "C:\\Users\\arx33\\anaconda3\\envs\\IDS\\lib\\site-packages\\imblearn\\ensemble\\_forest.py:558: FutureWarning: The default of `replacement` will change from `False` to `True` in version 0.13. This change will follow the implementation proposed in the original paper. Set to `True` to silence this warning and adopt the future behaviour.\n",
      "  warn(\n"
     ]
    },
    {
     "name": "stdout",
     "output_type": "stream",
     "text": [
      "AUC-ROC: 0.91\n",
      "Binary predictions for Abies_nordmanniana.csv appended to the combined DataFrame\n"
     ]
    },
    {
     "name": "stderr",
     "output_type": "stream",
     "text": [
      "C:\\Users\\arx33\\anaconda3\\envs\\IDS\\lib\\site-packages\\imblearn\\ensemble\\_forest.py:546: FutureWarning: The default of `sampling_strategy` will change from `'auto'` to `'all'` in version 0.13. This change will follow the implementation proposed in the original paper. Set to `'all'` to silence this warning and adopt the future behaviour.\n",
      "  warn(\n",
      "C:\\Users\\arx33\\anaconda3\\envs\\IDS\\lib\\site-packages\\imblearn\\ensemble\\_forest.py:558: FutureWarning: The default of `replacement` will change from `False` to `True` in version 0.13. This change will follow the implementation proposed in the original paper. Set to `True` to silence this warning and adopt the future behaviour.\n",
      "  warn(\n"
     ]
    },
    {
     "name": "stdout",
     "output_type": "stream",
     "text": [
      "AUC-ROC: 0.94\n",
      "Binary predictions for Abies_pinsapo.csv appended to the combined DataFrame\n"
     ]
    },
    {
     "name": "stderr",
     "output_type": "stream",
     "text": [
      "C:\\Users\\arx33\\anaconda3\\envs\\IDS\\lib\\site-packages\\imblearn\\ensemble\\_forest.py:546: FutureWarning: The default of `sampling_strategy` will change from `'auto'` to `'all'` in version 0.13. This change will follow the implementation proposed in the original paper. Set to `'all'` to silence this warning and adopt the future behaviour.\n",
      "  warn(\n",
      "C:\\Users\\arx33\\anaconda3\\envs\\IDS\\lib\\site-packages\\imblearn\\ensemble\\_forest.py:558: FutureWarning: The default of `replacement` will change from `False` to `True` in version 0.13. This change will follow the implementation proposed in the original paper. Set to `True` to silence this warning and adopt the future behaviour.\n",
      "  warn(\n"
     ]
    },
    {
     "name": "stdout",
     "output_type": "stream",
     "text": [
      "AUC-ROC: 0.97\n",
      "Binary predictions for Acer_griseum.csv appended to the combined DataFrame\n"
     ]
    },
    {
     "name": "stderr",
     "output_type": "stream",
     "text": [
      "C:\\Users\\arx33\\anaconda3\\envs\\IDS\\lib\\site-packages\\imblearn\\ensemble\\_forest.py:546: FutureWarning: The default of `sampling_strategy` will change from `'auto'` to `'all'` in version 0.13. This change will follow the implementation proposed in the original paper. Set to `'all'` to silence this warning and adopt the future behaviour.\n",
      "  warn(\n",
      "C:\\Users\\arx33\\anaconda3\\envs\\IDS\\lib\\site-packages\\imblearn\\ensemble\\_forest.py:558: FutureWarning: The default of `replacement` will change from `False` to `True` in version 0.13. This change will follow the implementation proposed in the original paper. Set to `True` to silence this warning and adopt the future behaviour.\n",
      "  warn(\n"
     ]
    },
    {
     "name": "stdout",
     "output_type": "stream",
     "text": [
      "AUC-ROC: 0.85\n",
      "Binary predictions for Acipenser_ruthenus.csv appended to the combined DataFrame\n"
     ]
    },
    {
     "name": "stderr",
     "output_type": "stream",
     "text": [
      "C:\\Users\\arx33\\anaconda3\\envs\\IDS\\lib\\site-packages\\imblearn\\ensemble\\_forest.py:546: FutureWarning: The default of `sampling_strategy` will change from `'auto'` to `'all'` in version 0.13. This change will follow the implementation proposed in the original paper. Set to `'all'` to silence this warning and adopt the future behaviour.\n",
      "  warn(\n",
      "C:\\Users\\arx33\\anaconda3\\envs\\IDS\\lib\\site-packages\\imblearn\\ensemble\\_forest.py:558: FutureWarning: The default of `replacement` will change from `False` to `True` in version 0.13. This change will follow the implementation proposed in the original paper. Set to `True` to silence this warning and adopt the future behaviour.\n",
      "  warn(\n"
     ]
    },
    {
     "name": "stdout",
     "output_type": "stream",
     "text": [
      "AUC-ROC: 0.70\n",
      "Binary predictions for Aldrovanda_vesiculosa.csv appended to the combined DataFrame\n"
     ]
    },
    {
     "name": "stderr",
     "output_type": "stream",
     "text": [
      "C:\\Users\\arx33\\anaconda3\\envs\\IDS\\lib\\site-packages\\imblearn\\ensemble\\_forest.py:546: FutureWarning: The default of `sampling_strategy` will change from `'auto'` to `'all'` in version 0.13. This change will follow the implementation proposed in the original paper. Set to `'all'` to silence this warning and adopt the future behaviour.\n",
      "  warn(\n",
      "C:\\Users\\arx33\\anaconda3\\envs\\IDS\\lib\\site-packages\\imblearn\\ensemble\\_forest.py:558: FutureWarning: The default of `replacement` will change from `False` to `True` in version 0.13. This change will follow the implementation proposed in the original paper. Set to `True` to silence this warning and adopt the future behaviour.\n",
      "  warn(\n"
     ]
    },
    {
     "name": "stdout",
     "output_type": "stream",
     "text": [
      "AUC-ROC: 0.99\n",
      "Binary predictions for Alytes_dickhilleni.csv appended to the combined DataFrame\n"
     ]
    },
    {
     "name": "stderr",
     "output_type": "stream",
     "text": [
      "C:\\Users\\arx33\\anaconda3\\envs\\IDS\\lib\\site-packages\\imblearn\\ensemble\\_forest.py:546: FutureWarning: The default of `sampling_strategy` will change from `'auto'` to `'all'` in version 0.13. This change will follow the implementation proposed in the original paper. Set to `'all'` to silence this warning and adopt the future behaviour.\n",
      "  warn(\n",
      "C:\\Users\\arx33\\anaconda3\\envs\\IDS\\lib\\site-packages\\imblearn\\ensemble\\_forest.py:558: FutureWarning: The default of `replacement` will change from `False` to `True` in version 0.13. This change will follow the implementation proposed in the original paper. Set to `True` to silence this warning and adopt the future behaviour.\n",
      "  warn(\n"
     ]
    },
    {
     "name": "stdout",
     "output_type": "stream",
     "text": [
      "AUC-ROC: 0.99\n",
      "Binary predictions for Anaecypris_hispanica.csv appended to the combined DataFrame\n"
     ]
    },
    {
     "name": "stderr",
     "output_type": "stream",
     "text": [
      "C:\\Users\\arx33\\anaconda3\\envs\\IDS\\lib\\site-packages\\imblearn\\ensemble\\_forest.py:546: FutureWarning: The default of `sampling_strategy` will change from `'auto'` to `'all'` in version 0.13. This change will follow the implementation proposed in the original paper. Set to `'all'` to silence this warning and adopt the future behaviour.\n",
      "  warn(\n",
      "C:\\Users\\arx33\\anaconda3\\envs\\IDS\\lib\\site-packages\\imblearn\\ensemble\\_forest.py:558: FutureWarning: The default of `replacement` will change from `False` to `True` in version 0.13. This change will follow the implementation proposed in the original paper. Set to `True` to silence this warning and adopt the future behaviour.\n",
      "  warn(\n"
     ]
    },
    {
     "name": "stdout",
     "output_type": "stream",
     "text": [
      "AUC-ROC: 1.00\n",
      "Binary predictions for Anarrhinum_duriminium.csv appended to the combined DataFrame\n"
     ]
    },
    {
     "name": "stderr",
     "output_type": "stream",
     "text": [
      "C:\\Users\\arx33\\anaconda3\\envs\\IDS\\lib\\site-packages\\imblearn\\ensemble\\_forest.py:546: FutureWarning: The default of `sampling_strategy` will change from `'auto'` to `'all'` in version 0.13. This change will follow the implementation proposed in the original paper. Set to `'all'` to silence this warning and adopt the future behaviour.\n",
      "  warn(\n",
      "C:\\Users\\arx33\\anaconda3\\envs\\IDS\\lib\\site-packages\\imblearn\\ensemble\\_forest.py:558: FutureWarning: The default of `replacement` will change from `False` to `True` in version 0.13. This change will follow the implementation proposed in the original paper. Set to `True` to silence this warning and adopt the future behaviour.\n",
      "  warn(\n"
     ]
    },
    {
     "name": "stdout",
     "output_type": "stream",
     "text": [
      "AUC-ROC: 1.00\n",
      "Binary predictions for Anchusa_crispa.csv appended to the combined DataFrame\n"
     ]
    },
    {
     "name": "stderr",
     "output_type": "stream",
     "text": [
      "C:\\Users\\arx33\\anaconda3\\envs\\IDS\\lib\\site-packages\\imblearn\\ensemble\\_forest.py:546: FutureWarning: The default of `sampling_strategy` will change from `'auto'` to `'all'` in version 0.13. This change will follow the implementation proposed in the original paper. Set to `'all'` to silence this warning and adopt the future behaviour.\n",
      "  warn(\n",
      "C:\\Users\\arx33\\anaconda3\\envs\\IDS\\lib\\site-packages\\imblearn\\ensemble\\_forest.py:558: FutureWarning: The default of `replacement` will change from `False` to `True` in version 0.13. This change will follow the implementation proposed in the original paper. Set to `True` to silence this warning and adopt the future behaviour.\n",
      "  warn(\n"
     ]
    },
    {
     "name": "stdout",
     "output_type": "stream",
     "text": [
      "AUC-ROC: 0.99\n",
      "Binary predictions for Aphanius_iberus.csv appended to the combined DataFrame\n"
     ]
    },
    {
     "name": "stderr",
     "output_type": "stream",
     "text": [
      "C:\\Users\\arx33\\anaconda3\\envs\\IDS\\lib\\site-packages\\imblearn\\ensemble\\_forest.py:546: FutureWarning: The default of `sampling_strategy` will change from `'auto'` to `'all'` in version 0.13. This change will follow the implementation proposed in the original paper. Set to `'all'` to silence this warning and adopt the future behaviour.\n",
      "  warn(\n",
      "C:\\Users\\arx33\\anaconda3\\envs\\IDS\\lib\\site-packages\\imblearn\\ensemble\\_forest.py:558: FutureWarning: The default of `replacement` will change from `False` to `True` in version 0.13. This change will follow the implementation proposed in the original paper. Set to `True` to silence this warning and adopt the future behaviour.\n",
      "  warn(\n"
     ]
    },
    {
     "name": "stdout",
     "output_type": "stream",
     "text": [
      "AUC-ROC: 0.85\n",
      "Binary predictions for Aquila_nipalensis.csv appended to the combined DataFrame\n"
     ]
    },
    {
     "name": "stderr",
     "output_type": "stream",
     "text": [
      "C:\\Users\\arx33\\anaconda3\\envs\\IDS\\lib\\site-packages\\imblearn\\ensemble\\_forest.py:546: FutureWarning: The default of `sampling_strategy` will change from `'auto'` to `'all'` in version 0.13. This change will follow the implementation proposed in the original paper. Set to `'all'` to silence this warning and adopt the future behaviour.\n",
      "  warn(\n",
      "C:\\Users\\arx33\\anaconda3\\envs\\IDS\\lib\\site-packages\\imblearn\\ensemble\\_forest.py:558: FutureWarning: The default of `replacement` will change from `False` to `True` in version 0.13. This change will follow the implementation proposed in the original paper. Set to `True` to silence this warning and adopt the future behaviour.\n",
      "  warn(\n"
     ]
    },
    {
     "name": "stdout",
     "output_type": "stream",
     "text": [
      "AUC-ROC: 0.94\n",
      "Binary predictions for Araucaria_araucana.csv appended to the combined DataFrame\n"
     ]
    },
    {
     "name": "stderr",
     "output_type": "stream",
     "text": [
      "C:\\Users\\arx33\\anaconda3\\envs\\IDS\\lib\\site-packages\\imblearn\\ensemble\\_forest.py:546: FutureWarning: The default of `sampling_strategy` will change from `'auto'` to `'all'` in version 0.13. This change will follow the implementation proposed in the original paper. Set to `'all'` to silence this warning and adopt the future behaviour.\n",
      "  warn(\n",
      "C:\\Users\\arx33\\anaconda3\\envs\\IDS\\lib\\site-packages\\imblearn\\ensemble\\_forest.py:558: FutureWarning: The default of `replacement` will change from `False` to `True` in version 0.13. This change will follow the implementation proposed in the original paper. Set to `True` to silence this warning and adopt the future behaviour.\n",
      "  warn(\n"
     ]
    },
    {
     "name": "stdout",
     "output_type": "stream",
     "text": [
      "AUC-ROC: 0.98\n",
      "Binary predictions for Austropotamobius_pallipes.csv appended to the combined DataFrame\n"
     ]
    },
    {
     "name": "stderr",
     "output_type": "stream",
     "text": [
      "C:\\Users\\arx33\\anaconda3\\envs\\IDS\\lib\\site-packages\\imblearn\\ensemble\\_forest.py:546: FutureWarning: The default of `sampling_strategy` will change from `'auto'` to `'all'` in version 0.13. This change will follow the implementation proposed in the original paper. Set to `'all'` to silence this warning and adopt the future behaviour.\n",
      "  warn(\n",
      "C:\\Users\\arx33\\anaconda3\\envs\\IDS\\lib\\site-packages\\imblearn\\ensemble\\_forest.py:558: FutureWarning: The default of `replacement` will change from `False` to `True` in version 0.13. This change will follow the implementation proposed in the original paper. Set to `True` to silence this warning and adopt the future behaviour.\n",
      "  warn(\n"
     ]
    },
    {
     "name": "stdout",
     "output_type": "stream",
     "text": [
      "AUC-ROC: 0.78\n",
      "Binary predictions for Balaenoptera_borealis.csv appended to the combined DataFrame\n"
     ]
    },
    {
     "name": "stderr",
     "output_type": "stream",
     "text": [
      "C:\\Users\\arx33\\anaconda3\\envs\\IDS\\lib\\site-packages\\imblearn\\ensemble\\_forest.py:546: FutureWarning: The default of `sampling_strategy` will change from `'auto'` to `'all'` in version 0.13. This change will follow the implementation proposed in the original paper. Set to `'all'` to silence this warning and adopt the future behaviour.\n",
      "  warn(\n",
      "C:\\Users\\arx33\\anaconda3\\envs\\IDS\\lib\\site-packages\\imblearn\\ensemble\\_forest.py:558: FutureWarning: The default of `replacement` will change from `False` to `True` in version 0.13. This change will follow the implementation proposed in the original paper. Set to `True` to silence this warning and adopt the future behaviour.\n",
      "  warn(\n"
     ]
    },
    {
     "name": "stdout",
     "output_type": "stream",
     "text": [
      "AUC-ROC: 0.96\n",
      "Binary predictions for Balearica_regulorum.csv appended to the combined DataFrame\n"
     ]
    },
    {
     "name": "stderr",
     "output_type": "stream",
     "text": [
      "C:\\Users\\arx33\\anaconda3\\envs\\IDS\\lib\\site-packages\\imblearn\\ensemble\\_forest.py:546: FutureWarning: The default of `sampling_strategy` will change from `'auto'` to `'all'` in version 0.13. This change will follow the implementation proposed in the original paper. Set to `'all'` to silence this warning and adopt the future behaviour.\n",
      "  warn(\n",
      "C:\\Users\\arx33\\anaconda3\\envs\\IDS\\lib\\site-packages\\imblearn\\ensemble\\_forest.py:558: FutureWarning: The default of `replacement` will change from `False` to `True` in version 0.13. This change will follow the implementation proposed in the original paper. Set to `True` to silence this warning and adopt the future behaviour.\n",
      "  warn(\n"
     ]
    },
    {
     "name": "stdout",
     "output_type": "stream",
     "text": [
      "AUC-ROC: 0.92\n",
      "Binary predictions for Barbus_caninus.csv appended to the combined DataFrame\n"
     ]
    },
    {
     "name": "stderr",
     "output_type": "stream",
     "text": [
      "C:\\Users\\arx33\\anaconda3\\envs\\IDS\\lib\\site-packages\\imblearn\\ensemble\\_forest.py:546: FutureWarning: The default of `sampling_strategy` will change from `'auto'` to `'all'` in version 0.13. This change will follow the implementation proposed in the original paper. Set to `'all'` to silence this warning and adopt the future behaviour.\n",
      "  warn(\n",
      "C:\\Users\\arx33\\anaconda3\\envs\\IDS\\lib\\site-packages\\imblearn\\ensemble\\_forest.py:558: FutureWarning: The default of `replacement` will change from `False` to `True` in version 0.13. This change will follow the implementation proposed in the original paper. Set to `True` to silence this warning and adopt the future behaviour.\n",
      "  warn(\n"
     ]
    },
    {
     "name": "stdout",
     "output_type": "stream",
     "text": [
      "AUC-ROC: 1.00\n",
      "Binary predictions for Brachyopa_maculipennis.csv appended to the combined DataFrame\n"
     ]
    },
    {
     "name": "stderr",
     "output_type": "stream",
     "text": [
      "C:\\Users\\arx33\\anaconda3\\envs\\IDS\\lib\\site-packages\\imblearn\\ensemble\\_forest.py:546: FutureWarning: The default of `sampling_strategy` will change from `'auto'` to `'all'` in version 0.13. This change will follow the implementation proposed in the original paper. Set to `'all'` to silence this warning and adopt the future behaviour.\n",
      "  warn(\n",
      "C:\\Users\\arx33\\anaconda3\\envs\\IDS\\lib\\site-packages\\imblearn\\ensemble\\_forest.py:558: FutureWarning: The default of `replacement` will change from `False` to `True` in version 0.13. This change will follow the implementation proposed in the original paper. Set to `True` to silence this warning and adopt the future behaviour.\n",
      "  warn(\n"
     ]
    },
    {
     "name": "stdout",
     "output_type": "stream",
     "text": [
      "AUC-ROC: 0.98\n",
      "Binary predictions for Bythinella_viridis.csv appended to the combined DataFrame\n"
     ]
    },
    {
     "name": "stderr",
     "output_type": "stream",
     "text": [
      "C:\\Users\\arx33\\anaconda3\\envs\\IDS\\lib\\site-packages\\imblearn\\ensemble\\_forest.py:546: FutureWarning: The default of `sampling_strategy` will change from `'auto'` to `'all'` in version 0.13. This change will follow the implementation proposed in the original paper. Set to `'all'` to silence this warning and adopt the future behaviour.\n",
      "  warn(\n",
      "C:\\Users\\arx33\\anaconda3\\envs\\IDS\\lib\\site-packages\\imblearn\\ensemble\\_forest.py:558: FutureWarning: The default of `replacement` will change from `False` to `True` in version 0.13. This change will follow the implementation proposed in the original paper. Set to `True` to silence this warning and adopt the future behaviour.\n",
      "  warn(\n"
     ]
    },
    {
     "name": "stdout",
     "output_type": "stream",
     "text": [
      "AUC-ROC: 0.88\n",
      "Binary predictions for Calidris_tenuirostris.csv appended to the combined DataFrame\n"
     ]
    },
    {
     "name": "stderr",
     "output_type": "stream",
     "text": [
      "C:\\Users\\arx33\\anaconda3\\envs\\IDS\\lib\\site-packages\\imblearn\\ensemble\\_forest.py:546: FutureWarning: The default of `sampling_strategy` will change from `'auto'` to `'all'` in version 0.13. This change will follow the implementation proposed in the original paper. Set to `'all'` to silence this warning and adopt the future behaviour.\n",
      "  warn(\n",
      "C:\\Users\\arx33\\anaconda3\\envs\\IDS\\lib\\site-packages\\imblearn\\ensemble\\_forest.py:558: FutureWarning: The default of `replacement` will change from `False` to `True` in version 0.13. This change will follow the implementation proposed in the original paper. Set to `True` to silence this warning and adopt the future behaviour.\n",
      "  warn(\n"
     ]
    },
    {
     "name": "stdout",
     "output_type": "stream",
     "text": [
      "AUC-ROC: 0.96\n",
      "Binary predictions for Callicera_macquartii.csv appended to the combined DataFrame\n"
     ]
    },
    {
     "name": "stderr",
     "output_type": "stream",
     "text": [
      "C:\\Users\\arx33\\anaconda3\\envs\\IDS\\lib\\site-packages\\imblearn\\ensemble\\_forest.py:546: FutureWarning: The default of `sampling_strategy` will change from `'auto'` to `'all'` in version 0.13. This change will follow the implementation proposed in the original paper. Set to `'all'` to silence this warning and adopt the future behaviour.\n",
      "  warn(\n",
      "C:\\Users\\arx33\\anaconda3\\envs\\IDS\\lib\\site-packages\\imblearn\\ensemble\\_forest.py:558: FutureWarning: The default of `replacement` will change from `False` to `True` in version 0.13. This change will follow the implementation proposed in the original paper. Set to `True` to silence this warning and adopt the future behaviour.\n",
      "  warn(\n"
     ]
    },
    {
     "name": "stdout",
     "output_type": "stream",
     "text": [
      "AUC-ROC: 1.00\n",
      "Binary predictions for Campanula_vidalii.csv appended to the combined DataFrame\n"
     ]
    },
    {
     "name": "stderr",
     "output_type": "stream",
     "text": [
      "C:\\Users\\arx33\\anaconda3\\envs\\IDS\\lib\\site-packages\\imblearn\\ensemble\\_forest.py:546: FutureWarning: The default of `sampling_strategy` will change from `'auto'` to `'all'` in version 0.13. This change will follow the implementation proposed in the original paper. Set to `'all'` to silence this warning and adopt the future behaviour.\n",
      "  warn(\n",
      "C:\\Users\\arx33\\anaconda3\\envs\\IDS\\lib\\site-packages\\imblearn\\ensemble\\_forest.py:558: FutureWarning: The default of `replacement` will change from `False` to `True` in version 0.13. This change will follow the implementation proposed in the original paper. Set to `True` to silence this warning and adopt the future behaviour.\n",
      "  warn(\n"
     ]
    },
    {
     "name": "stdout",
     "output_type": "stream",
     "text": [
      "AUC-ROC: 0.95\n",
      "Binary predictions for Cedrus_atlantica.csv appended to the combined DataFrame\n"
     ]
    },
    {
     "name": "stderr",
     "output_type": "stream",
     "text": [
      "C:\\Users\\arx33\\anaconda3\\envs\\IDS\\lib\\site-packages\\imblearn\\ensemble\\_forest.py:546: FutureWarning: The default of `sampling_strategy` will change from `'auto'` to `'all'` in version 0.13. This change will follow the implementation proposed in the original paper. Set to `'all'` to silence this warning and adopt the future behaviour.\n",
      "  warn(\n",
      "C:\\Users\\arx33\\anaconda3\\envs\\IDS\\lib\\site-packages\\imblearn\\ensemble\\_forest.py:558: FutureWarning: The default of `replacement` will change from `False` to `True` in version 0.13. This change will follow the implementation proposed in the original paper. Set to `True` to silence this warning and adopt the future behaviour.\n",
      "  warn(\n"
     ]
    },
    {
     "name": "stdout",
     "output_type": "stream",
     "text": [
      "AUC-ROC: 0.98\n",
      "Binary predictions for Cephaloziella_nicholsonii.csv appended to the combined DataFrame\n"
     ]
    },
    {
     "name": "stderr",
     "output_type": "stream",
     "text": [
      "C:\\Users\\arx33\\anaconda3\\envs\\IDS\\lib\\site-packages\\imblearn\\ensemble\\_forest.py:546: FutureWarning: The default of `sampling_strategy` will change from `'auto'` to `'all'` in version 0.13. This change will follow the implementation proposed in the original paper. Set to `'all'` to silence this warning and adopt the future behaviour.\n",
      "  warn(\n",
      "C:\\Users\\arx33\\anaconda3\\envs\\IDS\\lib\\site-packages\\imblearn\\ensemble\\_forest.py:558: FutureWarning: The default of `replacement` will change from `False` to `True` in version 0.13. This change will follow the implementation proposed in the original paper. Set to `True` to silence this warning and adopt the future behaviour.\n",
      "  warn(\n"
     ]
    },
    {
     "name": "stdout",
     "output_type": "stream",
     "text": [
      "AUC-ROC: 0.98\n",
      "Binary predictions for Cetorhinus_maximus.csv appended to the combined DataFrame\n"
     ]
    },
    {
     "name": "stderr",
     "output_type": "stream",
     "text": [
      "C:\\Users\\arx33\\anaconda3\\envs\\IDS\\lib\\site-packages\\imblearn\\ensemble\\_forest.py:546: FutureWarning: The default of `sampling_strategy` will change from `'auto'` to `'all'` in version 0.13. This change will follow the implementation proposed in the original paper. Set to `'all'` to silence this warning and adopt the future behaviour.\n",
      "  warn(\n",
      "C:\\Users\\arx33\\anaconda3\\envs\\IDS\\lib\\site-packages\\imblearn\\ensemble\\_forest.py:558: FutureWarning: The default of `replacement` will change from `False` to `True` in version 0.13. This change will follow the implementation proposed in the original paper. Set to `True` to silence this warning and adopt the future behaviour.\n",
      "  warn(\n"
     ]
    },
    {
     "name": "stdout",
     "output_type": "stream",
     "text": [
      "AUC-ROC: 0.97\n",
      "Binary predictions for Cheilosia_ingerae.csv appended to the combined DataFrame\n"
     ]
    },
    {
     "name": "stderr",
     "output_type": "stream",
     "text": [
      "C:\\Users\\arx33\\anaconda3\\envs\\IDS\\lib\\site-packages\\imblearn\\ensemble\\_forest.py:546: FutureWarning: The default of `sampling_strategy` will change from `'auto'` to `'all'` in version 0.13. This change will follow the implementation proposed in the original paper. Set to `'all'` to silence this warning and adopt the future behaviour.\n",
      "  warn(\n",
      "C:\\Users\\arx33\\anaconda3\\envs\\IDS\\lib\\site-packages\\imblearn\\ensemble\\_forest.py:558: FutureWarning: The default of `replacement` will change from `False` to `True` in version 0.13. This change will follow the implementation proposed in the original paper. Set to `True` to silence this warning and adopt the future behaviour.\n",
      "  warn(\n"
     ]
    },
    {
     "name": "stdout",
     "output_type": "stream",
     "text": [
      "AUC-ROC: 0.85\n",
      "Binary predictions for Cheilosia_morio.csv appended to the combined DataFrame\n"
     ]
    },
    {
     "name": "stderr",
     "output_type": "stream",
     "text": [
      "C:\\Users\\arx33\\anaconda3\\envs\\IDS\\lib\\site-packages\\imblearn\\ensemble\\_forest.py:546: FutureWarning: The default of `sampling_strategy` will change from `'auto'` to `'all'` in version 0.13. This change will follow the implementation proposed in the original paper. Set to `'all'` to silence this warning and adopt the future behaviour.\n",
      "  warn(\n",
      "C:\\Users\\arx33\\anaconda3\\envs\\IDS\\lib\\site-packages\\imblearn\\ensemble\\_forest.py:558: FutureWarning: The default of `replacement` will change from `False` to `True` in version 0.13. This change will follow the implementation proposed in the original paper. Set to `True` to silence this warning and adopt the future behaviour.\n",
      "  warn(\n"
     ]
    },
    {
     "name": "stdout",
     "output_type": "stream",
     "text": [
      "AUC-ROC: 0.96\n",
      "Binary predictions for Chelonia_mydas.csv appended to the combined DataFrame\n"
     ]
    },
    {
     "name": "stderr",
     "output_type": "stream",
     "text": [
      "C:\\Users\\arx33\\anaconda3\\envs\\IDS\\lib\\site-packages\\imblearn\\ensemble\\_forest.py:546: FutureWarning: The default of `sampling_strategy` will change from `'auto'` to `'all'` in version 0.13. This change will follow the implementation proposed in the original paper. Set to `'all'` to silence this warning and adopt the future behaviour.\n",
      "  warn(\n",
      "C:\\Users\\arx33\\anaconda3\\envs\\IDS\\lib\\site-packages\\imblearn\\ensemble\\_forest.py:558: FutureWarning: The default of `replacement` will change from `False` to `True` in version 0.13. This change will follow the implementation proposed in the original paper. Set to `True` to silence this warning and adopt the future behaviour.\n",
      "  warn(\n"
     ]
    },
    {
     "name": "stdout",
     "output_type": "stream",
     "text": [
      "AUC-ROC: 0.97\n",
      "Binary predictions for Chondrostoma_soetta.csv appended to the combined DataFrame\n"
     ]
    },
    {
     "name": "stderr",
     "output_type": "stream",
     "text": [
      "C:\\Users\\arx33\\anaconda3\\envs\\IDS\\lib\\site-packages\\imblearn\\ensemble\\_forest.py:546: FutureWarning: The default of `sampling_strategy` will change from `'auto'` to `'all'` in version 0.13. This change will follow the implementation proposed in the original paper. Set to `'all'` to silence this warning and adopt the future behaviour.\n",
      "  warn(\n",
      "C:\\Users\\arx33\\anaconda3\\envs\\IDS\\lib\\site-packages\\imblearn\\ensemble\\_forest.py:558: FutureWarning: The default of `replacement` will change from `False` to `True` in version 0.13. This change will follow the implementation proposed in the original paper. Set to `True` to silence this warning and adopt the future behaviour.\n",
      "  warn(\n"
     ]
    },
    {
     "name": "stdout",
     "output_type": "stream",
     "text": [
      "AUC-ROC: 0.95\n",
      "Binary predictions for Cladocora_caespitosa.csv appended to the combined DataFrame\n"
     ]
    },
    {
     "name": "stderr",
     "output_type": "stream",
     "text": [
      "C:\\Users\\arx33\\anaconda3\\envs\\IDS\\lib\\site-packages\\imblearn\\ensemble\\_forest.py:546: FutureWarning: The default of `sampling_strategy` will change from `'auto'` to `'all'` in version 0.13. This change will follow the implementation proposed in the original paper. Set to `'all'` to silence this warning and adopt the future behaviour.\n",
      "  warn(\n",
      "C:\\Users\\arx33\\anaconda3\\envs\\IDS\\lib\\site-packages\\imblearn\\ensemble\\_forest.py:558: FutureWarning: The default of `replacement` will change from `False` to `True` in version 0.13. This change will follow the implementation proposed in the original paper. Set to `True` to silence this warning and adopt the future behaviour.\n",
      "  warn(\n"
     ]
    },
    {
     "name": "stdout",
     "output_type": "stream",
     "text": [
      "AUC-ROC: 0.99\n",
      "Binary predictions for Cobitis_calderoni.csv appended to the combined DataFrame\n"
     ]
    },
    {
     "name": "stderr",
     "output_type": "stream",
     "text": [
      "C:\\Users\\arx33\\anaconda3\\envs\\IDS\\lib\\site-packages\\imblearn\\ensemble\\_forest.py:546: FutureWarning: The default of `sampling_strategy` will change from `'auto'` to `'all'` in version 0.13. This change will follow the implementation proposed in the original paper. Set to `'all'` to silence this warning and adopt the future behaviour.\n",
      "  warn(\n",
      "C:\\Users\\arx33\\anaconda3\\envs\\IDS\\lib\\site-packages\\imblearn\\ensemble\\_forest.py:558: FutureWarning: The default of `replacement` will change from `False` to `True` in version 0.13. This change will follow the implementation proposed in the original paper. Set to `True` to silence this warning and adopt the future behaviour.\n",
      "  warn(\n"
     ]
    },
    {
     "name": "stdout",
     "output_type": "stream",
     "text": [
      "AUC-ROC: 0.94\n",
      "Binary predictions for Corticeus_bicoloroides.csv appended to the combined DataFrame\n"
     ]
    },
    {
     "name": "stderr",
     "output_type": "stream",
     "text": [
      "C:\\Users\\arx33\\anaconda3\\envs\\IDS\\lib\\site-packages\\imblearn\\ensemble\\_forest.py:546: FutureWarning: The default of `sampling_strategy` will change from `'auto'` to `'all'` in version 0.13. This change will follow the implementation proposed in the original paper. Set to `'all'` to silence this warning and adopt the future behaviour.\n",
      "  warn(\n",
      "C:\\Users\\arx33\\anaconda3\\envs\\IDS\\lib\\site-packages\\imblearn\\ensemble\\_forest.py:558: FutureWarning: The default of `replacement` will change from `False` to `True` in version 0.13. This change will follow the implementation proposed in the original paper. Set to `True` to silence this warning and adopt the future behaviour.\n",
      "  warn(\n"
     ]
    },
    {
     "name": "stdout",
     "output_type": "stream",
     "text": [
      "AUC-ROC: 0.93\n",
      "Binary predictions for Corticeus_vanmeeri.csv appended to the combined DataFrame\n"
     ]
    },
    {
     "name": "stderr",
     "output_type": "stream",
     "text": [
      "C:\\Users\\arx33\\anaconda3\\envs\\IDS\\lib\\site-packages\\imblearn\\ensemble\\_forest.py:546: FutureWarning: The default of `sampling_strategy` will change from `'auto'` to `'all'` in version 0.13. This change will follow the implementation proposed in the original paper. Set to `'all'` to silence this warning and adopt the future behaviour.\n",
      "  warn(\n",
      "C:\\Users\\arx33\\anaconda3\\envs\\IDS\\lib\\site-packages\\imblearn\\ensemble\\_forest.py:558: FutureWarning: The default of `replacement` will change from `False` to `True` in version 0.13. This change will follow the implementation proposed in the original paper. Set to `True` to silence this warning and adopt the future behaviour.\n",
      "  warn(\n"
     ]
    },
    {
     "name": "stdout",
     "output_type": "stream",
     "text": [
      "AUC-ROC: 0.97\n",
      "Binary predictions for Ditrichum_plumbicola.csv appended to the combined DataFrame\n"
     ]
    },
    {
     "name": "stderr",
     "output_type": "stream",
     "text": [
      "C:\\Users\\arx33\\anaconda3\\envs\\IDS\\lib\\site-packages\\imblearn\\ensemble\\_forest.py:546: FutureWarning: The default of `sampling_strategy` will change from `'auto'` to `'all'` in version 0.13. This change will follow the implementation proposed in the original paper. Set to `'all'` to silence this warning and adopt the future behaviour.\n",
      "  warn(\n",
      "C:\\Users\\arx33\\anaconda3\\envs\\IDS\\lib\\site-packages\\imblearn\\ensemble\\_forest.py:558: FutureWarning: The default of `replacement` will change from `False` to `True` in version 0.13. This change will follow the implementation proposed in the original paper. Set to `True` to silence this warning and adopt the future behaviour.\n",
      "  warn(\n"
     ]
    },
    {
     "name": "stdout",
     "output_type": "stream",
     "text": [
      "AUC-ROC: 0.99\n",
      "Binary predictions for Draba_oxycarpa.csv appended to the combined DataFrame\n"
     ]
    },
    {
     "name": "stderr",
     "output_type": "stream",
     "text": [
      "C:\\Users\\arx33\\anaconda3\\envs\\IDS\\lib\\site-packages\\imblearn\\ensemble\\_forest.py:546: FutureWarning: The default of `sampling_strategy` will change from `'auto'` to `'all'` in version 0.13. This change will follow the implementation proposed in the original paper. Set to `'all'` to silence this warning and adopt the future behaviour.\n",
      "  warn(\n",
      "C:\\Users\\arx33\\anaconda3\\envs\\IDS\\lib\\site-packages\\imblearn\\ensemble\\_forest.py:558: FutureWarning: The default of `replacement` will change from `False` to `True` in version 0.13. This change will follow the implementation proposed in the original paper. Set to `True` to silence this warning and adopt the future behaviour.\n",
      "  warn(\n"
     ]
    },
    {
     "name": "stdout",
     "output_type": "stream",
     "text": [
      "AUC-ROC: 0.97\n",
      "Binary predictions for Dracaena_draco.csv appended to the combined DataFrame\n"
     ]
    },
    {
     "name": "stderr",
     "output_type": "stream",
     "text": [
      "C:\\Users\\arx33\\anaconda3\\envs\\IDS\\lib\\site-packages\\imblearn\\ensemble\\_forest.py:546: FutureWarning: The default of `sampling_strategy` will change from `'auto'` to `'all'` in version 0.13. This change will follow the implementation proposed in the original paper. Set to `'all'` to silence this warning and adopt the future behaviour.\n",
      "  warn(\n",
      "C:\\Users\\arx33\\anaconda3\\envs\\IDS\\lib\\site-packages\\imblearn\\ensemble\\_forest.py:558: FutureWarning: The default of `replacement` will change from `False` to `True` in version 0.13. This change will follow the implementation proposed in the original paper. Set to `True` to silence this warning and adopt the future behaviour.\n",
      "  warn(\n"
     ]
    },
    {
     "name": "stdout",
     "output_type": "stream",
     "text": [
      "AUC-ROC: 0.99\n",
      "Binary predictions for Echium_pininana.csv appended to the combined DataFrame\n"
     ]
    },
    {
     "name": "stderr",
     "output_type": "stream",
     "text": [
      "C:\\Users\\arx33\\anaconda3\\envs\\IDS\\lib\\site-packages\\imblearn\\ensemble\\_forest.py:546: FutureWarning: The default of `sampling_strategy` will change from `'auto'` to `'all'` in version 0.13. This change will follow the implementation proposed in the original paper. Set to `'all'` to silence this warning and adopt the future behaviour.\n",
      "  warn(\n",
      "C:\\Users\\arx33\\anaconda3\\envs\\IDS\\lib\\site-packages\\imblearn\\ensemble\\_forest.py:558: FutureWarning: The default of `replacement` will change from `False` to `True` in version 0.13. This change will follow the implementation proposed in the original paper. Set to `True` to silence this warning and adopt the future behaviour.\n",
      "  warn(\n"
     ]
    },
    {
     "name": "stdout",
     "output_type": "stream",
     "text": [
      "AUC-ROC: 0.99\n",
      "Binary predictions for Ephippiger_ruffoi.csv appended to the combined DataFrame\n"
     ]
    },
    {
     "name": "stderr",
     "output_type": "stream",
     "text": [
      "C:\\Users\\arx33\\anaconda3\\envs\\IDS\\lib\\site-packages\\imblearn\\ensemble\\_forest.py:546: FutureWarning: The default of `sampling_strategy` will change from `'auto'` to `'all'` in version 0.13. This change will follow the implementation proposed in the original paper. Set to `'all'` to silence this warning and adopt the future behaviour.\n",
      "  warn(\n",
      "C:\\Users\\arx33\\anaconda3\\envs\\IDS\\lib\\site-packages\\imblearn\\ensemble\\_forest.py:558: FutureWarning: The default of `replacement` will change from `False` to `True` in version 0.13. This change will follow the implementation proposed in the original paper. Set to `True` to silence this warning and adopt the future behaviour.\n",
      "  warn(\n"
     ]
    },
    {
     "name": "stdout",
     "output_type": "stream",
     "text": [
      "AUC-ROC: 0.95\n",
      "Binary predictions for Epipactis_muelleri.csv appended to the combined DataFrame\n"
     ]
    },
    {
     "name": "stderr",
     "output_type": "stream",
     "text": [
      "C:\\Users\\arx33\\anaconda3\\envs\\IDS\\lib\\site-packages\\imblearn\\ensemble\\_forest.py:546: FutureWarning: The default of `sampling_strategy` will change from `'auto'` to `'all'` in version 0.13. This change will follow the implementation proposed in the original paper. Set to `'all'` to silence this warning and adopt the future behaviour.\n",
      "  warn(\n",
      "C:\\Users\\arx33\\anaconda3\\envs\\IDS\\lib\\site-packages\\imblearn\\ensemble\\_forest.py:558: FutureWarning: The default of `replacement` will change from `False` to `True` in version 0.13. This change will follow the implementation proposed in the original paper. Set to `True` to silence this warning and adopt the future behaviour.\n",
      "  warn(\n"
     ]
    },
    {
     "name": "stdout",
     "output_type": "stream",
     "text": [
      "AUC-ROC: 0.66\n",
      "Binary predictions for Equus_ferus.csv appended to the combined DataFrame\n"
     ]
    },
    {
     "name": "stderr",
     "output_type": "stream",
     "text": [
      "C:\\Users\\arx33\\anaconda3\\envs\\IDS\\lib\\site-packages\\imblearn\\ensemble\\_forest.py:546: FutureWarning: The default of `sampling_strategy` will change from `'auto'` to `'all'` in version 0.13. This change will follow the implementation proposed in the original paper. Set to `'all'` to silence this warning and adopt the future behaviour.\n",
      "  warn(\n",
      "C:\\Users\\arx33\\anaconda3\\envs\\IDS\\lib\\site-packages\\imblearn\\ensemble\\_forest.py:558: FutureWarning: The default of `replacement` will change from `False` to `True` in version 0.13. This change will follow the implementation proposed in the original paper. Set to `True` to silence this warning and adopt the future behaviour.\n",
      "  warn(\n"
     ]
    },
    {
     "name": "stdout",
     "output_type": "stream",
     "text": [
      "AUC-ROC: 0.91\n",
      "Binary predictions for Equus_przewalskii.csv appended to the combined DataFrame\n"
     ]
    },
    {
     "name": "stderr",
     "output_type": "stream",
     "text": [
      "C:\\Users\\arx33\\anaconda3\\envs\\IDS\\lib\\site-packages\\imblearn\\ensemble\\_forest.py:546: FutureWarning: The default of `sampling_strategy` will change from `'auto'` to `'all'` in version 0.13. This change will follow the implementation proposed in the original paper. Set to `'all'` to silence this warning and adopt the future behaviour.\n",
      "  warn(\n",
      "C:\\Users\\arx33\\anaconda3\\envs\\IDS\\lib\\site-packages\\imblearn\\ensemble\\_forest.py:558: FutureWarning: The default of `replacement` will change from `False` to `True` in version 0.13. This change will follow the implementation proposed in the original paper. Set to `True` to silence this warning and adopt the future behaviour.\n",
      "  warn(\n"
     ]
    },
    {
     "name": "stdout",
     "output_type": "stream",
     "text": [
      "AUC-ROC: 0.96\n",
      "Binary predictions for Erigeron_glabratus.csv appended to the combined DataFrame\n"
     ]
    },
    {
     "name": "stderr",
     "output_type": "stream",
     "text": [
      "C:\\Users\\arx33\\anaconda3\\envs\\IDS\\lib\\site-packages\\imblearn\\ensemble\\_forest.py:546: FutureWarning: The default of `sampling_strategy` will change from `'auto'` to `'all'` in version 0.13. This change will follow the implementation proposed in the original paper. Set to `'all'` to silence this warning and adopt the future behaviour.\n",
      "  warn(\n",
      "C:\\Users\\arx33\\anaconda3\\envs\\IDS\\lib\\site-packages\\imblearn\\ensemble\\_forest.py:558: FutureWarning: The default of `replacement` will change from `False` to `True` in version 0.13. This change will follow the implementation proposed in the original paper. Set to `True` to silence this warning and adopt the future behaviour.\n",
      "  warn(\n"
     ]
    },
    {
     "name": "stdout",
     "output_type": "stream",
     "text": [
      "AUC-ROC: 0.93\n",
      "Binary predictions for Eucalyptus_gunnii.csv appended to the combined DataFrame\n"
     ]
    },
    {
     "name": "stderr",
     "output_type": "stream",
     "text": [
      "C:\\Users\\arx33\\anaconda3\\envs\\IDS\\lib\\site-packages\\imblearn\\ensemble\\_forest.py:546: FutureWarning: The default of `sampling_strategy` will change from `'auto'` to `'all'` in version 0.13. This change will follow the implementation proposed in the original paper. Set to `'all'` to silence this warning and adopt the future behaviour.\n",
      "  warn(\n",
      "C:\\Users\\arx33\\anaconda3\\envs\\IDS\\lib\\site-packages\\imblearn\\ensemble\\_forest.py:558: FutureWarning: The default of `replacement` will change from `False` to `True` in version 0.13. This change will follow the implementation proposed in the original paper. Set to `True` to silence this warning and adopt the future behaviour.\n",
      "  warn(\n"
     ]
    },
    {
     "name": "stdout",
     "output_type": "stream",
     "text": [
      "AUC-ROC: 0.87\n",
      "Binary predictions for Falco_cherrug.csv appended to the combined DataFrame\n"
     ]
    },
    {
     "name": "stderr",
     "output_type": "stream",
     "text": [
      "C:\\Users\\arx33\\anaconda3\\envs\\IDS\\lib\\site-packages\\imblearn\\ensemble\\_forest.py:546: FutureWarning: The default of `sampling_strategy` will change from `'auto'` to `'all'` in version 0.13. This change will follow the implementation proposed in the original paper. Set to `'all'` to silence this warning and adopt the future behaviour.\n",
      "  warn(\n",
      "C:\\Users\\arx33\\anaconda3\\envs\\IDS\\lib\\site-packages\\imblearn\\ensemble\\_forest.py:558: FutureWarning: The default of `replacement` will change from `False` to `True` in version 0.13. This change will follow the implementation proposed in the original paper. Set to `True` to silence this warning and adopt the future behaviour.\n",
      "  warn(\n"
     ]
    },
    {
     "name": "stdout",
     "output_type": "stream",
     "text": [
      "AUC-ROC: 0.99\n",
      "Binary predictions for Galemys_pyrenaicus.csv appended to the combined DataFrame\n"
     ]
    },
    {
     "name": "stderr",
     "output_type": "stream",
     "text": [
      "C:\\Users\\arx33\\anaconda3\\envs\\IDS\\lib\\site-packages\\imblearn\\ensemble\\_forest.py:546: FutureWarning: The default of `sampling_strategy` will change from `'auto'` to `'all'` in version 0.13. This change will follow the implementation proposed in the original paper. Set to `'all'` to silence this warning and adopt the future behaviour.\n",
      "  warn(\n",
      "C:\\Users\\arx33\\anaconda3\\envs\\IDS\\lib\\site-packages\\imblearn\\ensemble\\_forest.py:558: FutureWarning: The default of `replacement` will change from `False` to `True` in version 0.13. This change will follow the implementation proposed in the original paper. Set to `True` to silence this warning and adopt the future behaviour.\n",
      "  warn(\n"
     ]
    },
    {
     "name": "stdout",
     "output_type": "stream",
     "text": [
      "AUC-ROC: 1.00\n",
      "Binary predictions for Genista_ancistrocarpa.csv appended to the combined DataFrame\n"
     ]
    },
    {
     "name": "stderr",
     "output_type": "stream",
     "text": [
      "C:\\Users\\arx33\\anaconda3\\envs\\IDS\\lib\\site-packages\\imblearn\\ensemble\\_forest.py:546: FutureWarning: The default of `sampling_strategy` will change from `'auto'` to `'all'` in version 0.13. This change will follow the implementation proposed in the original paper. Set to `'all'` to silence this warning and adopt the future behaviour.\n",
      "  warn(\n",
      "C:\\Users\\arx33\\anaconda3\\envs\\IDS\\lib\\site-packages\\imblearn\\ensemble\\_forest.py:558: FutureWarning: The default of `replacement` will change from `False` to `True` in version 0.13. This change will follow the implementation proposed in the original paper. Set to `True` to silence this warning and adopt the future behaviour.\n",
      "  warn(\n"
     ]
    },
    {
     "name": "stdout",
     "output_type": "stream",
     "text": [
      "AUC-ROC: 0.90\n",
      "Binary predictions for Geronticus_eremita.csv appended to the combined DataFrame\n"
     ]
    },
    {
     "name": "stderr",
     "output_type": "stream",
     "text": [
      "C:\\Users\\arx33\\anaconda3\\envs\\IDS\\lib\\site-packages\\imblearn\\ensemble\\_forest.py:546: FutureWarning: The default of `sampling_strategy` will change from `'auto'` to `'all'` in version 0.13. This change will follow the implementation proposed in the original paper. Set to `'all'` to silence this warning and adopt the future behaviour.\n",
      "  warn(\n",
      "C:\\Users\\arx33\\anaconda3\\envs\\IDS\\lib\\site-packages\\imblearn\\ensemble\\_forest.py:558: FutureWarning: The default of `replacement` will change from `False` to `True` in version 0.13. This change will follow the implementation proposed in the original paper. Set to `True` to silence this warning and adopt the future behaviour.\n",
      "  warn(\n"
     ]
    },
    {
     "name": "stdout",
     "output_type": "stream",
     "text": [
      "AUC-ROC: 0.92\n",
      "Binary predictions for Ginkgo_biloba.csv appended to the combined DataFrame\n"
     ]
    },
    {
     "name": "stderr",
     "output_type": "stream",
     "text": [
      "C:\\Users\\arx33\\anaconda3\\envs\\IDS\\lib\\site-packages\\imblearn\\ensemble\\_forest.py:546: FutureWarning: The default of `sampling_strategy` will change from `'auto'` to `'all'` in version 0.13. This change will follow the implementation proposed in the original paper. Set to `'all'` to silence this warning and adopt the future behaviour.\n",
      "  warn(\n",
      "C:\\Users\\arx33\\anaconda3\\envs\\IDS\\lib\\site-packages\\imblearn\\ensemble\\_forest.py:558: FutureWarning: The default of `replacement` will change from `False` to `True` in version 0.13. This change will follow the implementation proposed in the original paper. Set to `True` to silence this warning and adopt the future behaviour.\n",
      "  warn(\n"
     ]
    },
    {
     "name": "stdout",
     "output_type": "stream",
     "text": [
      "AUC-ROC: 0.78\n",
      "Binary predictions for Gymnadenia_widderi.csv appended to the combined DataFrame\n"
     ]
    },
    {
     "name": "stderr",
     "output_type": "stream",
     "text": [
      "C:\\Users\\arx33\\anaconda3\\envs\\IDS\\lib\\site-packages\\imblearn\\ensemble\\_forest.py:546: FutureWarning: The default of `sampling_strategy` will change from `'auto'` to `'all'` in version 0.13. This change will follow the implementation proposed in the original paper. Set to `'all'` to silence this warning and adopt the future behaviour.\n",
      "  warn(\n",
      "C:\\Users\\arx33\\anaconda3\\envs\\IDS\\lib\\site-packages\\imblearn\\ensemble\\_forest.py:558: FutureWarning: The default of `replacement` will change from `False` to `True` in version 0.13. This change will follow the implementation proposed in the original paper. Set to `True` to silence this warning and adopt the future behaviour.\n",
      "  warn(\n"
     ]
    },
    {
     "name": "stdout",
     "output_type": "stream",
     "text": [
      "AUC-ROC: 0.94\n",
      "Binary predictions for Hippoglossus_hippoglossus.csv appended to the combined DataFrame\n"
     ]
    },
    {
     "name": "stderr",
     "output_type": "stream",
     "text": [
      "C:\\Users\\arx33\\anaconda3\\envs\\IDS\\lib\\site-packages\\imblearn\\ensemble\\_forest.py:546: FutureWarning: The default of `sampling_strategy` will change from `'auto'` to `'all'` in version 0.13. This change will follow the implementation proposed in the original paper. Set to `'all'` to silence this warning and adopt the future behaviour.\n",
      "  warn(\n",
      "C:\\Users\\arx33\\anaconda3\\envs\\IDS\\lib\\site-packages\\imblearn\\ensemble\\_forest.py:558: FutureWarning: The default of `replacement` will change from `False` to `True` in version 0.13. This change will follow the implementation proposed in the original paper. Set to `True` to silence this warning and adopt the future behaviour.\n",
      "  warn(\n"
     ]
    },
    {
     "name": "stdout",
     "output_type": "stream",
     "text": [
      "AUC-ROC: 0.94\n",
      "Binary predictions for Hucho_hucho.csv appended to the combined DataFrame\n"
     ]
    },
    {
     "name": "stderr",
     "output_type": "stream",
     "text": [
      "C:\\Users\\arx33\\anaconda3\\envs\\IDS\\lib\\site-packages\\imblearn\\ensemble\\_forest.py:546: FutureWarning: The default of `sampling_strategy` will change from `'auto'` to `'all'` in version 0.13. This change will follow the implementation proposed in the original paper. Set to `'all'` to silence this warning and adopt the future behaviour.\n",
      "  warn(\n",
      "C:\\Users\\arx33\\anaconda3\\envs\\IDS\\lib\\site-packages\\imblearn\\ensemble\\_forest.py:558: FutureWarning: The default of `replacement` will change from `False` to `True` in version 0.13. This change will follow the implementation proposed in the original paper. Set to `True` to silence this warning and adopt the future behaviour.\n",
      "  warn(\n"
     ]
    },
    {
     "name": "stdout",
     "output_type": "stream",
     "text": [
      "AUC-ROC: 0.95\n",
      "Binary predictions for Hydroporus_planus.csv appended to the combined DataFrame\n"
     ]
    },
    {
     "name": "stderr",
     "output_type": "stream",
     "text": [
      "C:\\Users\\arx33\\anaconda3\\envs\\IDS\\lib\\site-packages\\imblearn\\ensemble\\_forest.py:546: FutureWarning: The default of `sampling_strategy` will change from `'auto'` to `'all'` in version 0.13. This change will follow the implementation proposed in the original paper. Set to `'all'` to silence this warning and adopt the future behaviour.\n",
      "  warn(\n",
      "C:\\Users\\arx33\\anaconda3\\envs\\IDS\\lib\\site-packages\\imblearn\\ensemble\\_forest.py:558: FutureWarning: The default of `replacement` will change from `False` to `True` in version 0.13. This change will follow the implementation proposed in the original paper. Set to `True` to silence this warning and adopt the future behaviour.\n",
      "  warn(\n"
     ]
    },
    {
     "name": "stdout",
     "output_type": "stream",
     "text": [
      "AUC-ROC: 0.99\n",
      "Binary predictions for Iberolacerta_cyreni.csv appended to the combined DataFrame\n"
     ]
    },
    {
     "name": "stderr",
     "output_type": "stream",
     "text": [
      "C:\\Users\\arx33\\anaconda3\\envs\\IDS\\lib\\site-packages\\imblearn\\ensemble\\_forest.py:546: FutureWarning: The default of `sampling_strategy` will change from `'auto'` to `'all'` in version 0.13. This change will follow the implementation proposed in the original paper. Set to `'all'` to silence this warning and adopt the future behaviour.\n",
      "  warn(\n",
      "C:\\Users\\arx33\\anaconda3\\envs\\IDS\\lib\\site-packages\\imblearn\\ensemble\\_forest.py:558: FutureWarning: The default of `replacement` will change from `False` to `True` in version 0.13. This change will follow the implementation proposed in the original paper. Set to `True` to silence this warning and adopt the future behaviour.\n",
      "  warn(\n"
     ]
    },
    {
     "name": "stdout",
     "output_type": "stream",
     "text": [
      "AUC-ROC: 0.97\n",
      "Binary predictions for Isoetes_longissima.csv appended to the combined DataFrame\n"
     ]
    },
    {
     "name": "stderr",
     "output_type": "stream",
     "text": [
      "C:\\Users\\arx33\\anaconda3\\envs\\IDS\\lib\\site-packages\\imblearn\\ensemble\\_forest.py:546: FutureWarning: The default of `sampling_strategy` will change from `'auto'` to `'all'` in version 0.13. This change will follow the implementation proposed in the original paper. Set to `'all'` to silence this warning and adopt the future behaviour.\n",
      "  warn(\n",
      "C:\\Users\\arx33\\anaconda3\\envs\\IDS\\lib\\site-packages\\imblearn\\ensemble\\_forest.py:558: FutureWarning: The default of `replacement` will change from `False` to `True` in version 0.13. This change will follow the implementation proposed in the original paper. Set to `True` to silence this warning and adopt the future behaviour.\n",
      "  warn(\n"
     ]
    },
    {
     "name": "stdout",
     "output_type": "stream",
     "text": [
      "AUC-ROC: 0.87\n",
      "Binary predictions for Juglans_cinerea.csv appended to the combined DataFrame\n"
     ]
    },
    {
     "name": "stderr",
     "output_type": "stream",
     "text": [
      "C:\\Users\\arx33\\anaconda3\\envs\\IDS\\lib\\site-packages\\imblearn\\ensemble\\_forest.py:546: FutureWarning: The default of `sampling_strategy` will change from `'auto'` to `'all'` in version 0.13. This change will follow the implementation proposed in the original paper. Set to `'all'` to silence this warning and adopt the future behaviour.\n",
      "  warn(\n",
      "C:\\Users\\arx33\\anaconda3\\envs\\IDS\\lib\\site-packages\\imblearn\\ensemble\\_forest.py:558: FutureWarning: The default of `replacement` will change from `False` to `True` in version 0.13. This change will follow the implementation proposed in the original paper. Set to `True` to silence this warning and adopt the future behaviour.\n",
      "  warn(\n"
     ]
    },
    {
     "name": "stdout",
     "output_type": "stream",
     "text": [
      "AUC-ROC: 0.97\n",
      "Binary predictions for Kalanchoe_daigremontiana.csv appended to the combined DataFrame\n"
     ]
    },
    {
     "name": "stderr",
     "output_type": "stream",
     "text": [
      "C:\\Users\\arx33\\anaconda3\\envs\\IDS\\lib\\site-packages\\imblearn\\ensemble\\_forest.py:546: FutureWarning: The default of `sampling_strategy` will change from `'auto'` to `'all'` in version 0.13. This change will follow the implementation proposed in the original paper. Set to `'all'` to silence this warning and adopt the future behaviour.\n",
      "  warn(\n",
      "C:\\Users\\arx33\\anaconda3\\envs\\IDS\\lib\\site-packages\\imblearn\\ensemble\\_forest.py:558: FutureWarning: The default of `replacement` will change from `False` to `True` in version 0.13. This change will follow the implementation proposed in the original paper. Set to `True` to silence this warning and adopt the future behaviour.\n",
      "  warn(\n"
     ]
    },
    {
     "name": "stdout",
     "output_type": "stream",
     "text": [
      "AUC-ROC: 1.00\n",
      "Binary predictions for Lactuca_watsoniana.csv appended to the combined DataFrame\n"
     ]
    },
    {
     "name": "stderr",
     "output_type": "stream",
     "text": [
      "C:\\Users\\arx33\\anaconda3\\envs\\IDS\\lib\\site-packages\\imblearn\\ensemble\\_forest.py:546: FutureWarning: The default of `sampling_strategy` will change from `'auto'` to `'all'` in version 0.13. This change will follow the implementation proposed in the original paper. Set to `'all'` to silence this warning and adopt the future behaviour.\n",
      "  warn(\n",
      "C:\\Users\\arx33\\anaconda3\\envs\\IDS\\lib\\site-packages\\imblearn\\ensemble\\_forest.py:558: FutureWarning: The default of `replacement` will change from `False` to `True` in version 0.13. This change will follow the implementation proposed in the original paper. Set to `True` to silence this warning and adopt the future behaviour.\n",
      "  warn(\n"
     ]
    },
    {
     "name": "stdout",
     "output_type": "stream",
     "text": [
      "AUC-ROC: 0.97\n",
      "Binary predictions for Limoniscus violaceus.csv appended to the combined DataFrame\n"
     ]
    },
    {
     "name": "stderr",
     "output_type": "stream",
     "text": [
      "C:\\Users\\arx33\\anaconda3\\envs\\IDS\\lib\\site-packages\\imblearn\\ensemble\\_forest.py:546: FutureWarning: The default of `sampling_strategy` will change from `'auto'` to `'all'` in version 0.13. This change will follow the implementation proposed in the original paper. Set to `'all'` to silence this warning and adopt the future behaviour.\n",
      "  warn(\n",
      "C:\\Users\\arx33\\anaconda3\\envs\\IDS\\lib\\site-packages\\imblearn\\ensemble\\_forest.py:558: FutureWarning: The default of `replacement` will change from `False` to `True` in version 0.13. This change will follow the implementation proposed in the original paper. Set to `True` to silence this warning and adopt the future behaviour.\n",
      "  warn(\n"
     ]
    },
    {
     "name": "stdout",
     "output_type": "stream",
     "text": [
      "AUC-ROC: 0.91\n",
      "Binary predictions for Lonchura_oryzivora.csv appended to the combined DataFrame\n"
     ]
    },
    {
     "name": "stderr",
     "output_type": "stream",
     "text": [
      "C:\\Users\\arx33\\anaconda3\\envs\\IDS\\lib\\site-packages\\imblearn\\ensemble\\_forest.py:546: FutureWarning: The default of `sampling_strategy` will change from `'auto'` to `'all'` in version 0.13. This change will follow the implementation proposed in the original paper. Set to `'all'` to silence this warning and adopt the future behaviour.\n",
      "  warn(\n",
      "C:\\Users\\arx33\\anaconda3\\envs\\IDS\\lib\\site-packages\\imblearn\\ensemble\\_forest.py:558: FutureWarning: The default of `replacement` will change from `False` to `True` in version 0.13. This change will follow the implementation proposed in the original paper. Set to `True` to silence this warning and adopt the future behaviour.\n",
      "  warn(\n"
     ]
    },
    {
     "name": "stdout",
     "output_type": "stream",
     "text": [
      "AUC-ROC: 1.00\n",
      "Binary predictions for Lynx_pardinus.csv appended to the combined DataFrame\n"
     ]
    },
    {
     "name": "stderr",
     "output_type": "stream",
     "text": [
      "C:\\Users\\arx33\\anaconda3\\envs\\IDS\\lib\\site-packages\\imblearn\\ensemble\\_forest.py:546: FutureWarning: The default of `sampling_strategy` will change from `'auto'` to `'all'` in version 0.13. This change will follow the implementation proposed in the original paper. Set to `'all'` to silence this warning and adopt the future behaviour.\n",
      "  warn(\n",
      "C:\\Users\\arx33\\anaconda3\\envs\\IDS\\lib\\site-packages\\imblearn\\ensemble\\_forest.py:558: FutureWarning: The default of `replacement` will change from `False` to `True` in version 0.13. This change will follow the implementation proposed in the original paper. Set to `True` to silence this warning and adopt the future behaviour.\n",
      "  warn(\n"
     ]
    },
    {
     "name": "stdout",
     "output_type": "stream",
     "text": [
      "AUC-ROC: 0.85\n",
      "Binary predictions for Magnolia_stellata.csv appended to the combined DataFrame\n"
     ]
    },
    {
     "name": "stderr",
     "output_type": "stream",
     "text": [
      "C:\\Users\\arx33\\anaconda3\\envs\\IDS\\lib\\site-packages\\imblearn\\ensemble\\_forest.py:546: FutureWarning: The default of `sampling_strategy` will change from `'auto'` to `'all'` in version 0.13. This change will follow the implementation proposed in the original paper. Set to `'all'` to silence this warning and adopt the future behaviour.\n",
      "  warn(\n",
      "C:\\Users\\arx33\\anaconda3\\envs\\IDS\\lib\\site-packages\\imblearn\\ensemble\\_forest.py:558: FutureWarning: The default of `replacement` will change from `False` to `True` in version 0.13. This change will follow the implementation proposed in the original paper. Set to `True` to silence this warning and adopt the future behaviour.\n",
      "  warn(\n"
     ]
    },
    {
     "name": "stdout",
     "output_type": "stream",
     "text": [
      "AUC-ROC: 0.95\n",
      "Binary predictions for Margaritifera_margaritifera.csv appended to the combined DataFrame\n"
     ]
    },
    {
     "name": "stderr",
     "output_type": "stream",
     "text": [
      "C:\\Users\\arx33\\anaconda3\\envs\\IDS\\lib\\site-packages\\imblearn\\ensemble\\_forest.py:546: FutureWarning: The default of `sampling_strategy` will change from `'auto'` to `'all'` in version 0.13. This change will follow the implementation proposed in the original paper. Set to `'all'` to silence this warning and adopt the future behaviour.\n",
      "  warn(\n",
      "C:\\Users\\arx33\\anaconda3\\envs\\IDS\\lib\\site-packages\\imblearn\\ensemble\\_forest.py:558: FutureWarning: The default of `replacement` will change from `False` to `True` in version 0.13. This change will follow the implementation proposed in the original paper. Set to `True` to silence this warning and adopt the future behaviour.\n",
      "  warn(\n"
     ]
    },
    {
     "name": "stdout",
     "output_type": "stream",
     "text": [
      "AUC-ROC: 1.00\n",
      "Binary predictions for Marsilea_batardae.csv appended to the combined DataFrame\n"
     ]
    },
    {
     "name": "stderr",
     "output_type": "stream",
     "text": [
      "C:\\Users\\arx33\\anaconda3\\envs\\IDS\\lib\\site-packages\\imblearn\\ensemble\\_forest.py:546: FutureWarning: The default of `sampling_strategy` will change from `'auto'` to `'all'` in version 0.13. This change will follow the implementation proposed in the original paper. Set to `'all'` to silence this warning and adopt the future behaviour.\n",
      "  warn(\n",
      "C:\\Users\\arx33\\anaconda3\\envs\\IDS\\lib\\site-packages\\imblearn\\ensemble\\_forest.py:558: FutureWarning: The default of `replacement` will change from `False` to `True` in version 0.13. This change will follow the implementation proposed in the original paper. Set to `True` to silence this warning and adopt the future behaviour.\n",
      "  warn(\n"
     ]
    },
    {
     "name": "stdout",
     "output_type": "stream",
     "text": [
      "AUC-ROC: 0.92\n",
      "Binary predictions for Mauremys_reevesii.csv appended to the combined DataFrame\n"
     ]
    },
    {
     "name": "stderr",
     "output_type": "stream",
     "text": [
      "C:\\Users\\arx33\\anaconda3\\envs\\IDS\\lib\\site-packages\\imblearn\\ensemble\\_forest.py:546: FutureWarning: The default of `sampling_strategy` will change from `'auto'` to `'all'` in version 0.13. This change will follow the implementation proposed in the original paper. Set to `'all'` to silence this warning and adopt the future behaviour.\n",
      "  warn(\n",
      "C:\\Users\\arx33\\anaconda3\\envs\\IDS\\lib\\site-packages\\imblearn\\ensemble\\_forest.py:558: FutureWarning: The default of `replacement` will change from `False` to `True` in version 0.13. This change will follow the implementation proposed in the original paper. Set to `True` to silence this warning and adopt the future behaviour.\n",
      "  warn(\n"
     ]
    },
    {
     "name": "stdout",
     "output_type": "stream",
     "text": [
      "AUC-ROC: 0.94\n",
      "Binary predictions for Metasequoia_glyptostroboides.csv appended to the combined DataFrame\n"
     ]
    },
    {
     "name": "stderr",
     "output_type": "stream",
     "text": [
      "C:\\Users\\arx33\\anaconda3\\envs\\IDS\\lib\\site-packages\\imblearn\\ensemble\\_forest.py:546: FutureWarning: The default of `sampling_strategy` will change from `'auto'` to `'all'` in version 0.13. This change will follow the implementation proposed in the original paper. Set to `'all'` to silence this warning and adopt the future behaviour.\n",
      "  warn(\n",
      "C:\\Users\\arx33\\anaconda3\\envs\\IDS\\lib\\site-packages\\imblearn\\ensemble\\_forest.py:558: FutureWarning: The default of `replacement` will change from `False` to `True` in version 0.13. This change will follow the implementation proposed in the original paper. Set to `True` to silence this warning and adopt the future behaviour.\n",
      "  warn(\n"
     ]
    },
    {
     "name": "stdout",
     "output_type": "stream",
     "text": [
      "AUC-ROC: 0.94\n",
      "Binary predictions for Microdon_major.csv appended to the combined DataFrame\n"
     ]
    },
    {
     "name": "stderr",
     "output_type": "stream",
     "text": [
      "C:\\Users\\arx33\\anaconda3\\envs\\IDS\\lib\\site-packages\\imblearn\\ensemble\\_forest.py:546: FutureWarning: The default of `sampling_strategy` will change from `'auto'` to `'all'` in version 0.13. This change will follow the implementation proposed in the original paper. Set to `'all'` to silence this warning and adopt the future behaviour.\n",
      "  warn(\n",
      "C:\\Users\\arx33\\anaconda3\\envs\\IDS\\lib\\site-packages\\imblearn\\ensemble\\_forest.py:558: FutureWarning: The default of `replacement` will change from `False` to `True` in version 0.13. This change will follow the implementation proposed in the original paper. Set to `True` to silence this warning and adopt the future behaviour.\n",
      "  warn(\n"
     ]
    },
    {
     "name": "stdout",
     "output_type": "stream",
     "text": [
      "AUC-ROC: 1.00\n",
      "Binary predictions for Mobula_mobular.csv appended to the combined DataFrame\n"
     ]
    },
    {
     "name": "stderr",
     "output_type": "stream",
     "text": [
      "C:\\Users\\arx33\\anaconda3\\envs\\IDS\\lib\\site-packages\\imblearn\\ensemble\\_forest.py:546: FutureWarning: The default of `sampling_strategy` will change from `'auto'` to `'all'` in version 0.13. This change will follow the implementation proposed in the original paper. Set to `'all'` to silence this warning and adopt the future behaviour.\n",
      "  warn(\n",
      "C:\\Users\\arx33\\anaconda3\\envs\\IDS\\lib\\site-packages\\imblearn\\ensemble\\_forest.py:558: FutureWarning: The default of `replacement` will change from `False` to `True` in version 0.13. This change will follow the implementation proposed in the original paper. Set to `True` to silence this warning and adopt the future behaviour.\n",
      "  warn(\n"
     ]
    },
    {
     "name": "stdout",
     "output_type": "stream",
     "text": [
      "AUC-ROC: 0.91\n",
      "Binary predictions for Mustelus_mustelus.csv appended to the combined DataFrame\n"
     ]
    },
    {
     "name": "stderr",
     "output_type": "stream",
     "text": [
      "C:\\Users\\arx33\\anaconda3\\envs\\IDS\\lib\\site-packages\\imblearn\\ensemble\\_forest.py:546: FutureWarning: The default of `sampling_strategy` will change from `'auto'` to `'all'` in version 0.13. This change will follow the implementation proposed in the original paper. Set to `'all'` to silence this warning and adopt the future behaviour.\n",
      "  warn(\n",
      "C:\\Users\\arx33\\anaconda3\\envs\\IDS\\lib\\site-packages\\imblearn\\ensemble\\_forest.py:558: FutureWarning: The default of `replacement` will change from `False` to `True` in version 0.13. This change will follow the implementation proposed in the original paper. Set to `True` to silence this warning and adopt the future behaviour.\n",
      "  warn(\n"
     ]
    },
    {
     "name": "stdout",
     "output_type": "stream",
     "text": [
      "AUC-ROC: 0.97\n",
      "Binary predictions for Neophron_percnopterus.csv appended to the combined DataFrame\n"
     ]
    },
    {
     "name": "stderr",
     "output_type": "stream",
     "text": [
      "C:\\Users\\arx33\\anaconda3\\envs\\IDS\\lib\\site-packages\\imblearn\\ensemble\\_forest.py:546: FutureWarning: The default of `sampling_strategy` will change from `'auto'` to `'all'` in version 0.13. This change will follow the implementation proposed in the original paper. Set to `'all'` to silence this warning and adopt the future behaviour.\n",
      "  warn(\n",
      "C:\\Users\\arx33\\anaconda3\\envs\\IDS\\lib\\site-packages\\imblearn\\ensemble\\_forest.py:558: FutureWarning: The default of `replacement` will change from `False` to `True` in version 0.13. This change will follow the implementation proposed in the original paper. Set to `True` to silence this warning and adopt the future behaviour.\n",
      "  warn(\n"
     ]
    },
    {
     "name": "stdout",
     "output_type": "stream",
     "text": [
      "AUC-ROC: 0.98\n",
      "Binary predictions for Oryctolagus_cuniculus.csv appended to the combined DataFrame\n"
     ]
    },
    {
     "name": "stderr",
     "output_type": "stream",
     "text": [
      "C:\\Users\\arx33\\anaconda3\\envs\\IDS\\lib\\site-packages\\imblearn\\ensemble\\_forest.py:546: FutureWarning: The default of `sampling_strategy` will change from `'auto'` to `'all'` in version 0.13. This change will follow the implementation proposed in the original paper. Set to `'all'` to silence this warning and adopt the future behaviour.\n",
      "  warn(\n",
      "C:\\Users\\arx33\\anaconda3\\envs\\IDS\\lib\\site-packages\\imblearn\\ensemble\\_forest.py:558: FutureWarning: The default of `replacement` will change from `False` to `True` in version 0.13. This change will follow the implementation proposed in the original paper. Set to `True` to silence this warning and adopt the future behaviour.\n",
      "  warn(\n"
     ]
    },
    {
     "name": "stdout",
     "output_type": "stream",
     "text": [
      "AUC-ROC: 0.89\n",
      "Binary predictions for Oxyura_leucocephala.csv appended to the combined DataFrame\n"
     ]
    },
    {
     "name": "stderr",
     "output_type": "stream",
     "text": [
      "C:\\Users\\arx33\\anaconda3\\envs\\IDS\\lib\\site-packages\\imblearn\\ensemble\\_forest.py:546: FutureWarning: The default of `sampling_strategy` will change from `'auto'` to `'all'` in version 0.13. This change will follow the implementation proposed in the original paper. Set to `'all'` to silence this warning and adopt the future behaviour.\n",
      "  warn(\n",
      "C:\\Users\\arx33\\anaconda3\\envs\\IDS\\lib\\site-packages\\imblearn\\ensemble\\_forest.py:558: FutureWarning: The default of `replacement` will change from `False` to `True` in version 0.13. This change will follow the implementation proposed in the original paper. Set to `True` to silence this warning and adopt the future behaviour.\n",
      "  warn(\n"
     ]
    },
    {
     "name": "stdout",
     "output_type": "stream",
     "text": [
      "AUC-ROC: 0.97\n",
      "Binary predictions for Phocoena_phocoena.csv appended to the combined DataFrame\n"
     ]
    },
    {
     "name": "stderr",
     "output_type": "stream",
     "text": [
      "C:\\Users\\arx33\\anaconda3\\envs\\IDS\\lib\\site-packages\\imblearn\\ensemble\\_forest.py:546: FutureWarning: The default of `sampling_strategy` will change from `'auto'` to `'all'` in version 0.13. This change will follow the implementation proposed in the original paper. Set to `'all'` to silence this warning and adopt the future behaviour.\n",
      "  warn(\n",
      "C:\\Users\\arx33\\anaconda3\\envs\\IDS\\lib\\site-packages\\imblearn\\ensemble\\_forest.py:558: FutureWarning: The default of `replacement` will change from `False` to `True` in version 0.13. This change will follow the implementation proposed in the original paper. Set to `True` to silence this warning and adopt the future behaviour.\n",
      "  warn(\n"
     ]
    },
    {
     "name": "stdout",
     "output_type": "stream",
     "text": [
      "AUC-ROC: 0.92\n",
      "Binary predictions for Picea_omorika.csv appended to the combined DataFrame\n"
     ]
    },
    {
     "name": "stderr",
     "output_type": "stream",
     "text": [
      "C:\\Users\\arx33\\anaconda3\\envs\\IDS\\lib\\site-packages\\imblearn\\ensemble\\_forest.py:546: FutureWarning: The default of `sampling_strategy` will change from `'auto'` to `'all'` in version 0.13. This change will follow the implementation proposed in the original paper. Set to `'all'` to silence this warning and adopt the future behaviour.\n",
      "  warn(\n",
      "C:\\Users\\arx33\\anaconda3\\envs\\IDS\\lib\\site-packages\\imblearn\\ensemble\\_forest.py:558: FutureWarning: The default of `replacement` will change from `False` to `True` in version 0.13. This change will follow the implementation proposed in the original paper. Set to `True` to silence this warning and adopt the future behaviour.\n",
      "  warn(\n"
     ]
    },
    {
     "name": "stdout",
     "output_type": "stream",
     "text": [
      "AUC-ROC: 1.00\n",
      "Binary predictions for Pilularia_minuta.csv appended to the combined DataFrame\n"
     ]
    },
    {
     "name": "stderr",
     "output_type": "stream",
     "text": [
      "C:\\Users\\arx33\\anaconda3\\envs\\IDS\\lib\\site-packages\\imblearn\\ensemble\\_forest.py:546: FutureWarning: The default of `sampling_strategy` will change from `'auto'` to `'all'` in version 0.13. This change will follow the implementation proposed in the original paper. Set to `'all'` to silence this warning and adopt the future behaviour.\n",
      "  warn(\n",
      "C:\\Users\\arx33\\anaconda3\\envs\\IDS\\lib\\site-packages\\imblearn\\ensemble\\_forest.py:558: FutureWarning: The default of `replacement` will change from `False` to `True` in version 0.13. This change will follow the implementation proposed in the original paper. Set to `True` to silence this warning and adopt the future behaviour.\n",
      "  warn(\n"
     ]
    },
    {
     "name": "stdout",
     "output_type": "stream",
     "text": [
      "AUC-ROC: 0.94\n",
      "Binary predictions for Pinus_mugo.csv appended to the combined DataFrame\n"
     ]
    },
    {
     "name": "stderr",
     "output_type": "stream",
     "text": [
      "C:\\Users\\arx33\\anaconda3\\envs\\IDS\\lib\\site-packages\\imblearn\\ensemble\\_forest.py:546: FutureWarning: The default of `sampling_strategy` will change from `'auto'` to `'all'` in version 0.13. This change will follow the implementation proposed in the original paper. Set to `'all'` to silence this warning and adopt the future behaviour.\n",
      "  warn(\n",
      "C:\\Users\\arx33\\anaconda3\\envs\\IDS\\lib\\site-packages\\imblearn\\ensemble\\_forest.py:558: FutureWarning: The default of `replacement` will change from `False` to `True` in version 0.13. This change will follow the implementation proposed in the original paper. Set to `True` to silence this warning and adopt the future behaviour.\n",
      "  warn(\n"
     ]
    },
    {
     "name": "stdout",
     "output_type": "stream",
     "text": [
      "AUC-ROC: 0.96\n",
      "Binary predictions for Pinus_radiata.csv appended to the combined DataFrame\n"
     ]
    },
    {
     "name": "stderr",
     "output_type": "stream",
     "text": [
      "C:\\Users\\arx33\\anaconda3\\envs\\IDS\\lib\\site-packages\\imblearn\\ensemble\\_forest.py:546: FutureWarning: The default of `sampling_strategy` will change from `'auto'` to `'all'` in version 0.13. This change will follow the implementation proposed in the original paper. Set to `'all'` to silence this warning and adopt the future behaviour.\n",
      "  warn(\n",
      "C:\\Users\\arx33\\anaconda3\\envs\\IDS\\lib\\site-packages\\imblearn\\ensemble\\_forest.py:558: FutureWarning: The default of `replacement` will change from `False` to `True` in version 0.13. This change will follow the implementation proposed in the original paper. Set to `True` to silence this warning and adopt the future behaviour.\n",
      "  warn(\n"
     ]
    },
    {
     "name": "stdout",
     "output_type": "stream",
     "text": [
      "AUC-ROC: 0.81\n",
      "Binary predictions for Platanthera_micrantha.csv appended to the combined DataFrame\n"
     ]
    },
    {
     "name": "stderr",
     "output_type": "stream",
     "text": [
      "C:\\Users\\arx33\\anaconda3\\envs\\IDS\\lib\\site-packages\\imblearn\\ensemble\\_forest.py:546: FutureWarning: The default of `sampling_strategy` will change from `'auto'` to `'all'` in version 0.13. This change will follow the implementation proposed in the original paper. Set to `'all'` to silence this warning and adopt the future behaviour.\n",
      "  warn(\n",
      "C:\\Users\\arx33\\anaconda3\\envs\\IDS\\lib\\site-packages\\imblearn\\ensemble\\_forest.py:558: FutureWarning: The default of `replacement` will change from `False` to `True` in version 0.13. This change will follow the implementation proposed in the original paper. Set to `True` to silence this warning and adopt the future behaviour.\n",
      "  warn(\n"
     ]
    },
    {
     "name": "stdout",
     "output_type": "stream",
     "text": [
      "AUC-ROC: 0.99\n",
      "Binary predictions for Poa_laxa.csv appended to the combined DataFrame\n"
     ]
    },
    {
     "name": "stderr",
     "output_type": "stream",
     "text": [
      "C:\\Users\\arx33\\anaconda3\\envs\\IDS\\lib\\site-packages\\imblearn\\ensemble\\_forest.py:546: FutureWarning: The default of `sampling_strategy` will change from `'auto'` to `'all'` in version 0.13. This change will follow the implementation proposed in the original paper. Set to `'all'` to silence this warning and adopt the future behaviour.\n",
      "  warn(\n",
      "C:\\Users\\arx33\\anaconda3\\envs\\IDS\\lib\\site-packages\\imblearn\\ensemble\\_forest.py:558: FutureWarning: The default of `replacement` will change from `False` to `True` in version 0.13. This change will follow the implementation proposed in the original paper. Set to `True` to silence this warning and adopt the future behaviour.\n",
      "  warn(\n"
     ]
    },
    {
     "name": "stdout",
     "output_type": "stream",
     "text": [
      "AUC-ROC: 0.97\n",
      "Binary predictions for Podarcis_carbonelli.csv appended to the combined DataFrame\n"
     ]
    },
    {
     "name": "stderr",
     "output_type": "stream",
     "text": [
      "C:\\Users\\arx33\\anaconda3\\envs\\IDS\\lib\\site-packages\\imblearn\\ensemble\\_forest.py:546: FutureWarning: The default of `sampling_strategy` will change from `'auto'` to `'all'` in version 0.13. This change will follow the implementation proposed in the original paper. Set to `'all'` to silence this warning and adopt the future behaviour.\n",
      "  warn(\n",
      "C:\\Users\\arx33\\anaconda3\\envs\\IDS\\lib\\site-packages\\imblearn\\ensemble\\_forest.py:558: FutureWarning: The default of `replacement` will change from `False` to `True` in version 0.13. This change will follow the implementation proposed in the original paper. Set to `True` to silence this warning and adopt the future behaviour.\n",
      "  warn(\n"
     ]
    },
    {
     "name": "stdout",
     "output_type": "stream",
     "text": [
      "AUC-ROC: 0.98\n",
      "Binary predictions for Potomida_littoralis.csv appended to the combined DataFrame\n"
     ]
    },
    {
     "name": "stderr",
     "output_type": "stream",
     "text": [
      "C:\\Users\\arx33\\anaconda3\\envs\\IDS\\lib\\site-packages\\imblearn\\ensemble\\_forest.py:546: FutureWarning: The default of `sampling_strategy` will change from `'auto'` to `'all'` in version 0.13. This change will follow the implementation proposed in the original paper. Set to `'all'` to silence this warning and adopt the future behaviour.\n",
      "  warn(\n",
      "C:\\Users\\arx33\\anaconda3\\envs\\IDS\\lib\\site-packages\\imblearn\\ensemble\\_forest.py:558: FutureWarning: The default of `replacement` will change from `False` to `True` in version 0.13. This change will follow the implementation proposed in the original paper. Set to `True` to silence this warning and adopt the future behaviour.\n",
      "  warn(\n"
     ]
    },
    {
     "name": "stdout",
     "output_type": "stream",
     "text": [
      "AUC-ROC: 0.91\n",
      "Binary predictions for Psittacus_erithacus.csv appended to the combined DataFrame\n"
     ]
    },
    {
     "name": "stderr",
     "output_type": "stream",
     "text": [
      "C:\\Users\\arx33\\anaconda3\\envs\\IDS\\lib\\site-packages\\imblearn\\ensemble\\_forest.py:546: FutureWarning: The default of `sampling_strategy` will change from `'auto'` to `'all'` in version 0.13. This change will follow the implementation proposed in the original paper. Set to `'all'` to silence this warning and adopt the future behaviour.\n",
      "  warn(\n",
      "C:\\Users\\arx33\\anaconda3\\envs\\IDS\\lib\\site-packages\\imblearn\\ensemble\\_forest.py:558: FutureWarning: The default of `replacement` will change from `False` to `True` in version 0.13. This change will follow the implementation proposed in the original paper. Set to `True` to silence this warning and adopt the future behaviour.\n",
      "  warn(\n"
     ]
    },
    {
     "name": "stdout",
     "output_type": "stream",
     "text": [
      "AUC-ROC: 1.00\n",
      "Binary predictions for Pusa_hispida.csv appended to the combined DataFrame\n"
     ]
    },
    {
     "name": "stderr",
     "output_type": "stream",
     "text": [
      "C:\\Users\\arx33\\anaconda3\\envs\\IDS\\lib\\site-packages\\imblearn\\ensemble\\_forest.py:546: FutureWarning: The default of `sampling_strategy` will change from `'auto'` to `'all'` in version 0.13. This change will follow the implementation proposed in the original paper. Set to `'all'` to silence this warning and adopt the future behaviour.\n",
      "  warn(\n",
      "C:\\Users\\arx33\\anaconda3\\envs\\IDS\\lib\\site-packages\\imblearn\\ensemble\\_forest.py:558: FutureWarning: The default of `replacement` will change from `False` to `True` in version 0.13. This change will follow the implementation proposed in the original paper. Set to `True` to silence this warning and adopt the future behaviour.\n",
      "  warn(\n"
     ]
    },
    {
     "name": "stdout",
     "output_type": "stream",
     "text": [
      "AUC-ROC: 0.97\n",
      "Binary predictions for Raja_undulata.csv appended to the combined DataFrame\n"
     ]
    },
    {
     "name": "stderr",
     "output_type": "stream",
     "text": [
      "C:\\Users\\arx33\\anaconda3\\envs\\IDS\\lib\\site-packages\\imblearn\\ensemble\\_forest.py:546: FutureWarning: The default of `sampling_strategy` will change from `'auto'` to `'all'` in version 0.13. This change will follow the implementation proposed in the original paper. Set to `'all'` to silence this warning and adopt the future behaviour.\n",
      "  warn(\n",
      "C:\\Users\\arx33\\anaconda3\\envs\\IDS\\lib\\site-packages\\imblearn\\ensemble\\_forest.py:558: FutureWarning: The default of `replacement` will change from `False` to `True` in version 0.13. This change will follow the implementation proposed in the original paper. Set to `True` to silence this warning and adopt the future behaviour.\n",
      "  warn(\n"
     ]
    },
    {
     "name": "stdout",
     "output_type": "stream",
     "text": [
      "AUC-ROC: 0.99\n",
      "Binary predictions for Ropalopus_ungaricus.csv appended to the combined DataFrame\n"
     ]
    },
    {
     "name": "stderr",
     "output_type": "stream",
     "text": [
      "C:\\Users\\arx33\\anaconda3\\envs\\IDS\\lib\\site-packages\\imblearn\\ensemble\\_forest.py:546: FutureWarning: The default of `sampling_strategy` will change from `'auto'` to `'all'` in version 0.13. This change will follow the implementation proposed in the original paper. Set to `'all'` to silence this warning and adopt the future behaviour.\n",
      "  warn(\n",
      "C:\\Users\\arx33\\anaconda3\\envs\\IDS\\lib\\site-packages\\imblearn\\ensemble\\_forest.py:558: FutureWarning: The default of `replacement` will change from `False` to `True` in version 0.13. This change will follow the implementation proposed in the original paper. Set to `True` to silence this warning and adopt the future behaviour.\n",
      "  warn(\n"
     ]
    },
    {
     "name": "stdout",
     "output_type": "stream",
     "text": [
      "AUC-ROC: 0.99\n",
      "Binary predictions for Salamandrina_perspicillata.csv appended to the combined DataFrame\n"
     ]
    },
    {
     "name": "stderr",
     "output_type": "stream",
     "text": [
      "C:\\Users\\arx33\\anaconda3\\envs\\IDS\\lib\\site-packages\\imblearn\\ensemble\\_forest.py:546: FutureWarning: The default of `sampling_strategy` will change from `'auto'` to `'all'` in version 0.13. This change will follow the implementation proposed in the original paper. Set to `'all'` to silence this warning and adopt the future behaviour.\n",
      "  warn(\n",
      "C:\\Users\\arx33\\anaconda3\\envs\\IDS\\lib\\site-packages\\imblearn\\ensemble\\_forest.py:558: FutureWarning: The default of `replacement` will change from `False` to `True` in version 0.13. This change will follow the implementation proposed in the original paper. Set to `True` to silence this warning and adopt the future behaviour.\n",
      "  warn(\n"
     ]
    },
    {
     "name": "stdout",
     "output_type": "stream",
     "text": [
      "AUC-ROC: 0.99\n",
      "Binary predictions for Seligeria_carniolica.csv appended to the combined DataFrame\n"
     ]
    },
    {
     "name": "stderr",
     "output_type": "stream",
     "text": [
      "C:\\Users\\arx33\\anaconda3\\envs\\IDS\\lib\\site-packages\\imblearn\\ensemble\\_forest.py:546: FutureWarning: The default of `sampling_strategy` will change from `'auto'` to `'all'` in version 0.13. This change will follow the implementation proposed in the original paper. Set to `'all'` to silence this warning and adopt the future behaviour.\n",
      "  warn(\n",
      "C:\\Users\\arx33\\anaconda3\\envs\\IDS\\lib\\site-packages\\imblearn\\ensemble\\_forest.py:558: FutureWarning: The default of `replacement` will change from `False` to `True` in version 0.13. This change will follow the implementation proposed in the original paper. Set to `True` to silence this warning and adopt the future behaviour.\n",
      "  warn(\n"
     ]
    },
    {
     "name": "stdout",
     "output_type": "stream",
     "text": [
      "AUC-ROC: 0.97\n",
      "Binary predictions for Sequoiadendron_giganteum.csv appended to the combined DataFrame\n"
     ]
    },
    {
     "name": "stderr",
     "output_type": "stream",
     "text": [
      "C:\\Users\\arx33\\anaconda3\\envs\\IDS\\lib\\site-packages\\imblearn\\ensemble\\_forest.py:546: FutureWarning: The default of `sampling_strategy` will change from `'auto'` to `'all'` in version 0.13. This change will follow the implementation proposed in the original paper. Set to `'all'` to silence this warning and adopt the future behaviour.\n",
      "  warn(\n",
      "C:\\Users\\arx33\\anaconda3\\envs\\IDS\\lib\\site-packages\\imblearn\\ensemble\\_forest.py:558: FutureWarning: The default of `replacement` will change from `False` to `True` in version 0.13. This change will follow the implementation proposed in the original paper. Set to `True` to silence this warning and adopt the future behaviour.\n",
      "  warn(\n"
     ]
    },
    {
     "name": "stdout",
     "output_type": "stream",
     "text": [
      "AUC-ROC: 0.97\n",
      "Binary predictions for Sequoia_sempervirens.csv appended to the combined DataFrame\n"
     ]
    },
    {
     "name": "stderr",
     "output_type": "stream",
     "text": [
      "C:\\Users\\arx33\\anaconda3\\envs\\IDS\\lib\\site-packages\\imblearn\\ensemble\\_forest.py:546: FutureWarning: The default of `sampling_strategy` will change from `'auto'` to `'all'` in version 0.13. This change will follow the implementation proposed in the original paper. Set to `'all'` to silence this warning and adopt the future behaviour.\n",
      "  warn(\n",
      "C:\\Users\\arx33\\anaconda3\\envs\\IDS\\lib\\site-packages\\imblearn\\ensemble\\_forest.py:558: FutureWarning: The default of `replacement` will change from `False` to `True` in version 0.13. This change will follow the implementation proposed in the original paper. Set to `True` to silence this warning and adopt the future behaviour.\n",
      "  warn(\n"
     ]
    },
    {
     "name": "stdout",
     "output_type": "stream",
     "text": [
      "AUC-ROC: 1.00\n",
      "Binary predictions for Speleomantes_italicus.csv appended to the combined DataFrame\n"
     ]
    },
    {
     "name": "stderr",
     "output_type": "stream",
     "text": [
      "C:\\Users\\arx33\\anaconda3\\envs\\IDS\\lib\\site-packages\\imblearn\\ensemble\\_forest.py:546: FutureWarning: The default of `sampling_strategy` will change from `'auto'` to `'all'` in version 0.13. This change will follow the implementation proposed in the original paper. Set to `'all'` to silence this warning and adopt the future behaviour.\n",
      "  warn(\n",
      "C:\\Users\\arx33\\anaconda3\\envs\\IDS\\lib\\site-packages\\imblearn\\ensemble\\_forest.py:558: FutureWarning: The default of `replacement` will change from `False` to `True` in version 0.13. This change will follow the implementation proposed in the original paper. Set to `True` to silence this warning and adopt the future behaviour.\n",
      "  warn(\n"
     ]
    },
    {
     "name": "stdout",
     "output_type": "stream",
     "text": [
      "AUC-ROC: 0.97\n",
      "Binary predictions for Speleomantes_strinatii.csv appended to the combined DataFrame\n"
     ]
    },
    {
     "name": "stderr",
     "output_type": "stream",
     "text": [
      "C:\\Users\\arx33\\anaconda3\\envs\\IDS\\lib\\site-packages\\imblearn\\ensemble\\_forest.py:546: FutureWarning: The default of `sampling_strategy` will change from `'auto'` to `'all'` in version 0.13. This change will follow the implementation proposed in the original paper. Set to `'all'` to silence this warning and adopt the future behaviour.\n",
      "  warn(\n",
      "C:\\Users\\arx33\\anaconda3\\envs\\IDS\\lib\\site-packages\\imblearn\\ensemble\\_forest.py:558: FutureWarning: The default of `replacement` will change from `False` to `True` in version 0.13. This change will follow the implementation proposed in the original paper. Set to `True` to silence this warning and adopt the future behaviour.\n",
      "  warn(\n"
     ]
    },
    {
     "name": "stdout",
     "output_type": "stream",
     "text": [
      "AUC-ROC: 0.97\n",
      "Binary predictions for Spermophilus_citellus.csv appended to the combined DataFrame\n"
     ]
    },
    {
     "name": "stderr",
     "output_type": "stream",
     "text": [
      "C:\\Users\\arx33\\anaconda3\\envs\\IDS\\lib\\site-packages\\imblearn\\ensemble\\_forest.py:546: FutureWarning: The default of `sampling_strategy` will change from `'auto'` to `'all'` in version 0.13. This change will follow the implementation proposed in the original paper. Set to `'all'` to silence this warning and adopt the future behaviour.\n",
      "  warn(\n",
      "C:\\Users\\arx33\\anaconda3\\envs\\IDS\\lib\\site-packages\\imblearn\\ensemble\\_forest.py:558: FutureWarning: The default of `replacement` will change from `False` to `True` in version 0.13. This change will follow the implementation proposed in the original paper. Set to `True` to silence this warning and adopt the future behaviour.\n",
      "  warn(\n"
     ]
    },
    {
     "name": "stdout",
     "output_type": "stream",
     "text": [
      "AUC-ROC: 0.94\n",
      "Binary predictions for Sphingonotus_personatus.csv appended to the combined DataFrame\n"
     ]
    },
    {
     "name": "stderr",
     "output_type": "stream",
     "text": [
      "C:\\Users\\arx33\\anaconda3\\envs\\IDS\\lib\\site-packages\\imblearn\\ensemble\\_forest.py:546: FutureWarning: The default of `sampling_strategy` will change from `'auto'` to `'all'` in version 0.13. This change will follow the implementation proposed in the original paper. Set to `'all'` to silence this warning and adopt the future behaviour.\n",
      "  warn(\n",
      "C:\\Users\\arx33\\anaconda3\\envs\\IDS\\lib\\site-packages\\imblearn\\ensemble\\_forest.py:558: FutureWarning: The default of `replacement` will change from `False` to `True` in version 0.13. This change will follow the implementation proposed in the original paper. Set to `True` to silence this warning and adopt the future behaviour.\n",
      "  warn(\n"
     ]
    },
    {
     "name": "stdout",
     "output_type": "stream",
     "text": [
      "AUC-ROC: 0.96\n",
      "Binary predictions for Splachnum_melanocaulon.csv appended to the combined DataFrame\n"
     ]
    },
    {
     "name": "stderr",
     "output_type": "stream",
     "text": [
      "C:\\Users\\arx33\\anaconda3\\envs\\IDS\\lib\\site-packages\\imblearn\\ensemble\\_forest.py:546: FutureWarning: The default of `sampling_strategy` will change from `'auto'` to `'all'` in version 0.13. This change will follow the implementation proposed in the original paper. Set to `'all'` to silence this warning and adopt the future behaviour.\n",
      "  warn(\n",
      "C:\\Users\\arx33\\anaconda3\\envs\\IDS\\lib\\site-packages\\imblearn\\ensemble\\_forest.py:558: FutureWarning: The default of `replacement` will change from `False` to `True` in version 0.13. This change will follow the implementation proposed in the original paper. Set to `True` to silence this warning and adopt the future behaviour.\n",
      "  warn(\n"
     ]
    },
    {
     "name": "stdout",
     "output_type": "stream",
     "text": [
      "AUC-ROC: 0.89\n",
      "Binary predictions for Syringa_josikaea.csv appended to the combined DataFrame\n"
     ]
    },
    {
     "name": "stderr",
     "output_type": "stream",
     "text": [
      "C:\\Users\\arx33\\anaconda3\\envs\\IDS\\lib\\site-packages\\imblearn\\ensemble\\_forest.py:546: FutureWarning: The default of `sampling_strategy` will change from `'auto'` to `'all'` in version 0.13. This change will follow the implementation proposed in the original paper. Set to `'all'` to silence this warning and adopt the future behaviour.\n",
      "  warn(\n",
      "C:\\Users\\arx33\\anaconda3\\envs\\IDS\\lib\\site-packages\\imblearn\\ensemble\\_forest.py:558: FutureWarning: The default of `replacement` will change from `False` to `True` in version 0.13. This change will follow the implementation proposed in the original paper. Set to `True` to silence this warning and adopt the future behaviour.\n",
      "  warn(\n"
     ]
    },
    {
     "name": "stdout",
     "output_type": "stream",
     "text": [
      "AUC-ROC: 0.97\n",
      "Binary predictions for Testudo_hermanni.csv appended to the combined DataFrame\n"
     ]
    },
    {
     "name": "stderr",
     "output_type": "stream",
     "text": [
      "C:\\Users\\arx33\\anaconda3\\envs\\IDS\\lib\\site-packages\\imblearn\\ensemble\\_forest.py:546: FutureWarning: The default of `sampling_strategy` will change from `'auto'` to `'all'` in version 0.13. This change will follow the implementation proposed in the original paper. Set to `'all'` to silence this warning and adopt the future behaviour.\n",
      "  warn(\n",
      "C:\\Users\\arx33\\anaconda3\\envs\\IDS\\lib\\site-packages\\imblearn\\ensemble\\_forest.py:558: FutureWarning: The default of `replacement` will change from `False` to `True` in version 0.13. This change will follow the implementation proposed in the original paper. Set to `True` to silence this warning and adopt the future behaviour.\n",
      "  warn(\n"
     ]
    },
    {
     "name": "stdout",
     "output_type": "stream",
     "text": [
      "AUC-ROC: 0.93\n",
      "Binary predictions for Unio_crassus.csv appended to the combined DataFrame\n"
     ]
    },
    {
     "name": "stderr",
     "output_type": "stream",
     "text": [
      "C:\\Users\\arx33\\anaconda3\\envs\\IDS\\lib\\site-packages\\imblearn\\ensemble\\_forest.py:546: FutureWarning: The default of `sampling_strategy` will change from `'auto'` to `'all'` in version 0.13. This change will follow the implementation proposed in the original paper. Set to `'all'` to silence this warning and adopt the future behaviour.\n",
      "  warn(\n",
      "C:\\Users\\arx33\\anaconda3\\envs\\IDS\\lib\\site-packages\\imblearn\\ensemble\\_forest.py:558: FutureWarning: The default of `replacement` will change from `False` to `True` in version 0.13. This change will follow the implementation proposed in the original paper. Set to `True` to silence this warning and adopt the future behaviour.\n",
      "  warn(\n"
     ]
    },
    {
     "name": "stdout",
     "output_type": "stream",
     "text": [
      "AUC-ROC: 0.99\n",
      "Binary predictions for Xerosecta_explanata.csv appended to the combined DataFrame\n",
      "Combined results saved to combined_results.csv\n",
      "AUC-ROC values saved to auc_roc_values.csv\n"
     ]
    }
   ],
   "source": [
    "# Set the path to the directory containing all CSV files (individual species occurences with current bioclimatic variables)\n",
    "csv_directory = 'C:/Users/arx33/Desktop/kool/andmeteadus/Project/Arvutused/csv'\n",
    "\n",
    "# Get a list of all CSV files in the directory\n",
    "csv_files = [f for f in os.listdir(csv_directory) if f.endswith('.csv')]\n",
    "\n",
    "# Initialize DataFrames to store binary predictions and AUC-ROC values\n",
    "combined_results_df = pd.DataFrame()\n",
    "auc_roc_data = []\n",
    "\n",
    "# read future bioclimatic variables data\n",
    "future_bioclimatic = pd.read_csv('Future_Condition.csv')\n",
    "\n",
    "# Add 'Cell_id' (grid cell ID) and \"Cell_lat\" (latitude) as the first column to combined_results_df output\n",
    "combined_results_df['Cell_id'] = future_bioclimatic['Cell_id']\n",
    "combined_results_df['Cell_lat'] = future_bioclimatic['Cell_lat']\n",
    "\n",
    "# Loop through each CSV file\n",
    "for csv_file in csv_files:\n",
    "    # Construct the full path to the CSV file\n",
    "    file_path = os.path.join(csv_directory, csv_file)\n",
    "\n",
    "    # Load the dataset\n",
    "    future_bioclimatic = pd.read_csv('Future_Condition.csv')\n",
    "    data = pd.read_csv(file_path)\n",
    "    data = data[data['Cell_id'].isin(future_bioclimatic['Cell_id'])]\n",
    "    \n",
    "    # Drop columns not needed for modeling\n",
    "    future_bioclimatic = future_bioclimatic.drop('FID', axis=1)\n",
    "    future_bioclimatic = future_bioclimatic.drop('Cell_id', axis=1)\n",
    "    future_bioclimatic = future_bioclimatic.drop('Cell_lat', axis=1)\n",
    "\n",
    "    X = data.drop('FID', axis=1)\n",
    "    X = X.drop('Cell_id', axis=1)\n",
    "    X = X.drop('cell_lat', axis=1)\n",
    "    X = X.drop('occurence', axis=1)\n",
    "    y = data['occurence']\n",
    "    \n",
    "    # Standardize current bioclimatic features\n",
    "    scaler = StandardScaler()\n",
    "    X_standardized = scaler.fit_transform(X)\n",
    "\n",
    "    # Standardize future bioclimatic features\n",
    "    future_bioclimatic_data_scaled = scaler.transform(future_bioclimatic)\n",
    "\n",
    "    \n",
    "    # Split the data into training and testing sets\n",
    "    X_train, X_test, y_train, y_test = train_test_split(X_standardized, y, test_size=0.2, random_state=42, stratify=y)\n",
    "    \n",
    "    # Create a (balanced) Random Forest classifier\n",
    "    rf_classifier = BalancedRandomForestClassifier(n_estimators=1000, random_state=42)\n",
    "    \n",
    "    #rf_classifier = RandomForestClassifier(n_estimators=100, random_state=42)\n",
    "\n",
    "    # Fit the model on the training data\n",
    "    rf_classifier.fit(X_train, y_train)\n",
    "\n",
    "    # Make predictions on the test data\n",
    "    y_pred = rf_classifier.predict(X_test)\n",
    "\n",
    "    # Calculate AUC-ROC score\n",
    "    auc_roc = roc_auc_score(y_test, rf_classifier.predict_proba(X_test)[:, 1])\n",
    "    print(f\"AUC-ROC: {auc_roc:.2f}\")\n",
    "    \n",
    "    \n",
    "    # Future prediction\n",
    "    future_predictions = rf_classifier.predict_proba(future_bioclimatic_data_scaled)[:, 1]\n",
    "    threshold = 0.5  # for binary classification\n",
    "    binary_predictions = (future_predictions > threshold).astype(int)\n",
    "    #binary_predictions\n",
    "    \n",
    "    # Extract the species name from the file name\n",
    "    species_name = os.path.splitext(csv_file)[0]\n",
    "\n",
    "    # Create a DataFrame with binary predictions and name the column based on species name\n",
    "    results_df = pd.DataFrame({species_name: binary_predictions})\n",
    "\n",
    "    # Concatenate the results column-wise to the combined DataFrame\n",
    "    combined_results_df = pd.concat([combined_results_df, results_df], axis=1)\n",
    "\n",
    "    # Append the species name and AUC-ROC to the auc_roc_data list\n",
    "    auc_roc_data.append({'species_name': species_name, 'auc_roc': auc_roc})\n",
    "\n",
    "    print(f\"Binary predictions for {csv_file} appended to the combined DataFrame\")\n",
    "\n",
    "# Create the AUC-ROC DataFrame from the list\n",
    "auc_roc_df = pd.DataFrame(auc_roc_data)\n",
    "\n",
    "# Write the combined DataFrame to a CSV file\n",
    "combined_results_df.to_csv('combined_results.csv', index=False)\n",
    "print(\"Combined results saved to combined_results.csv\")\n",
    "\n",
    "# Write the AUC-ROC DataFrame to a CSV file\n",
    "auc_roc_df.to_csv('auc_roc_values.csv', index=False)\n",
    "print(\"AUC-ROC values saved to auc_roc_values.csv\")"
   ]
  },
  {
   "cell_type": "code",
   "execution_count": 3,
   "id": "b1a62065",
   "metadata": {},
   "outputs": [],
   "source": [
    "# Calculate future latitudinal range and frequency for species\n",
    "\n",
    "df = pd.read_csv('combined_results.csv')\n",
    "\n",
    "# Replace underscores with spaces in the entire DataFrame\n",
    "df.columns = df.columns.str.replace('_', ' ')\n",
    "\n",
    "# List to store results\n",
    "results = []\n",
    "\n",
    "# Iterate over each species column\n",
    "for species_column in df.columns[2:]:\n",
    "    # Filter rows where the species is present\n",
    "    species_data = df[df[species_column] == 1]\n",
    "\n",
    "    # Calculate range of latitude\n",
    "    latitude_range = species_data['Cell lat'].max() - species_data['Cell lat'].min()\n",
    "\n",
    "    # Calculate total number of 1 values (frequency)\n",
    "    total_ones = species_data[species_column].sum()\n",
    "\n",
    "    # Append results to the list\n",
    "    results.append([species_column, latitude_range, total_ones])\n",
    "\n",
    "# Create a new DataFrame from the results list\n",
    "result_df = pd.DataFrame(results, columns=['Species', 'Future Range', 'Future Freq'])\n",
    "\n",
    "# Replace \"na\" values with 0\n",
    "result_df = result_df.fillna(0)\n",
    "\n",
    "# Save the result DataFrame to a CSV file\n",
    "result_df.to_csv('species_summary_future.csv', index=False)\n",
    "\n",
    "# Calculate species richness for every grid cell\n",
    "richness_df = pd.DataFrame({'Cell id': df['Cell id'], 'Richness': df.iloc[:, 2:].sum(axis=1)})\n",
    "\n",
    "# Save the species richness DataFrame to a CSV file\n",
    "richness_df.to_csv('richness_summary.csv', index=False)"
   ]
  },
  {
   "cell_type": "code",
   "execution_count": 4,
   "id": "dcb002d4",
   "metadata": {},
   "outputs": [
    {
     "data": {
      "text/html": [
       "<div>\n",
       "<style scoped>\n",
       "    .dataframe tbody tr th:only-of-type {\n",
       "        vertical-align: middle;\n",
       "    }\n",
       "\n",
       "    .dataframe tbody tr th {\n",
       "        vertical-align: top;\n",
       "    }\n",
       "\n",
       "    .dataframe thead th {\n",
       "        text-align: right;\n",
       "    }\n",
       "</style>\n",
       "<table border=\"1\" class=\"dataframe\">\n",
       "  <thead>\n",
       "    <tr style=\"text-align: right;\">\n",
       "      <th></th>\n",
       "      <th>Species</th>\n",
       "      <th>Current Range</th>\n",
       "      <th>Current Freq</th>\n",
       "      <th>Future Range</th>\n",
       "      <th>Future Freq</th>\n",
       "    </tr>\n",
       "  </thead>\n",
       "  <tbody>\n",
       "    <tr>\n",
       "      <th>0</th>\n",
       "      <td>Abies koreana</td>\n",
       "      <td>19.564800</td>\n",
       "      <td>80</td>\n",
       "      <td>0.000000</td>\n",
       "      <td>0</td>\n",
       "    </tr>\n",
       "    <tr>\n",
       "      <th>1</th>\n",
       "      <td>Abies nordmanniana</td>\n",
       "      <td>9.035000</td>\n",
       "      <td>14</td>\n",
       "      <td>16.087803</td>\n",
       "      <td>7</td>\n",
       "    </tr>\n",
       "    <tr>\n",
       "      <th>2</th>\n",
       "      <td>Abies pinsapo</td>\n",
       "      <td>19.500698</td>\n",
       "      <td>205</td>\n",
       "      <td>44.994202</td>\n",
       "      <td>1735</td>\n",
       "    </tr>\n",
       "    <tr>\n",
       "      <th>3</th>\n",
       "      <td>Acer griseum</td>\n",
       "      <td>20.564800</td>\n",
       "      <td>30</td>\n",
       "      <td>0.000000</td>\n",
       "      <td>0</td>\n",
       "    </tr>\n",
       "    <tr>\n",
       "      <th>4</th>\n",
       "      <td>Acipenser ruthenus</td>\n",
       "      <td>12.500000</td>\n",
       "      <td>52</td>\n",
       "      <td>0.000000</td>\n",
       "      <td>0</td>\n",
       "    </tr>\n",
       "    <tr>\n",
       "      <th>...</th>\n",
       "      <td>...</td>\n",
       "      <td>...</td>\n",
       "      <td>...</td>\n",
       "      <td>...</td>\n",
       "      <td>...</td>\n",
       "    </tr>\n",
       "    <tr>\n",
       "      <th>92</th>\n",
       "      <td>Splachnum melanocaulon</td>\n",
       "      <td>6.999996</td>\n",
       "      <td>11</td>\n",
       "      <td>0.000000</td>\n",
       "      <td>0</td>\n",
       "    </tr>\n",
       "    <tr>\n",
       "      <th>93</th>\n",
       "      <td>Syringa josikaea</td>\n",
       "      <td>24.411900</td>\n",
       "      <td>171</td>\n",
       "      <td>0.000000</td>\n",
       "      <td>0</td>\n",
       "    </tr>\n",
       "    <tr>\n",
       "      <th>94</th>\n",
       "      <td>Testudo hermanni</td>\n",
       "      <td>12.945499</td>\n",
       "      <td>67</td>\n",
       "      <td>0.000000</td>\n",
       "      <td>0</td>\n",
       "    </tr>\n",
       "    <tr>\n",
       "      <th>95</th>\n",
       "      <td>Unio crassus</td>\n",
       "      <td>21.000000</td>\n",
       "      <td>340</td>\n",
       "      <td>0.000000</td>\n",
       "      <td>0</td>\n",
       "    </tr>\n",
       "    <tr>\n",
       "      <th>96</th>\n",
       "      <td>Xerosecta explanata</td>\n",
       "      <td>5.443600</td>\n",
       "      <td>12</td>\n",
       "      <td>45.364601</td>\n",
       "      <td>3913</td>\n",
       "    </tr>\n",
       "  </tbody>\n",
       "</table>\n",
       "<p>97 rows × 5 columns</p>\n",
       "</div>"
      ],
      "text/plain": [
       "                   Species  Current Range  Current Freq  Future Range  \\\n",
       "0            Abies koreana      19.564800            80      0.000000   \n",
       "1       Abies nordmanniana       9.035000            14     16.087803   \n",
       "2            Abies pinsapo      19.500698           205     44.994202   \n",
       "3             Acer griseum      20.564800            30      0.000000   \n",
       "4       Acipenser ruthenus      12.500000            52      0.000000   \n",
       "..                     ...            ...           ...           ...   \n",
       "92  Splachnum melanocaulon       6.999996            11      0.000000   \n",
       "93        Syringa josikaea      24.411900           171      0.000000   \n",
       "94        Testudo hermanni      12.945499            67      0.000000   \n",
       "95            Unio crassus      21.000000           340      0.000000   \n",
       "96     Xerosecta explanata       5.443600            12     45.364601   \n",
       "\n",
       "    Future Freq  \n",
       "0             0  \n",
       "1             7  \n",
       "2          1735  \n",
       "3             0  \n",
       "4             0  \n",
       "..          ...  \n",
       "92            0  \n",
       "93            0  \n",
       "94            0  \n",
       "95            0  \n",
       "96         3913  \n",
       "\n",
       "[97 rows x 5 columns]"
      ]
     },
     "execution_count": 4,
     "metadata": {},
     "output_type": "execute_result"
    }
   ],
   "source": [
    "# Merge current and future results into one dataframe\n",
    "Current = pd.read_csv('species_summary_current.csv')\n",
    "Future = pd.read_csv('species_summary_future.csv')\n",
    "\n",
    "merged_species = pd.merge(Current, Future, on='Species')\n",
    "merged_species"
   ]
  },
  {
   "cell_type": "code",
   "execution_count": 5,
   "id": "8f2560a1",
   "metadata": {},
   "outputs": [
    {
     "name": "stderr",
     "output_type": "stream",
     "text": [
      "C:\\Users\\arx33\\anaconda3\\envs\\IDS\\lib\\site-packages\\seaborn\\_oldcore.py:1498: FutureWarning: is_categorical_dtype is deprecated and will be removed in a future version. Use isinstance(dtype, CategoricalDtype) instead\n",
      "  if pd.api.types.is_categorical_dtype(vector):\n",
      "C:\\Users\\arx33\\anaconda3\\envs\\IDS\\lib\\site-packages\\seaborn\\_oldcore.py:1498: FutureWarning: is_categorical_dtype is deprecated and will be removed in a future version. Use isinstance(dtype, CategoricalDtype) instead\n",
      "  if pd.api.types.is_categorical_dtype(vector):\n"
     ]
    },
    {
     "data": {
      "image/png": "[encoded data removed]",
      "text/plain": [
       "<Figure size 800x600 with 1 Axes>"
      ]
     },
     "metadata": {},
     "output_type": "display_data"
    }
   ],
   "source": [
    "# Plotting the results\n",
    "\n",
    "# Create a boxplot using Seaborn\n",
    "sns.boxplot(data=merged_species[['Current Range', 'Future Range']])\n",
    "\n",
    "# Calculate mean values for current and future range\n",
    "mean_current = merged_species['Current Range'].mean()\n",
    "mean_future = merged_species['Future Range'].mean()\n",
    "\n",
    "# Add mean values as text annotations\n",
    "plt.text(-0.05, mean_current, f'Mean: {mean_current:.2f}', color='red', ha='right')\n",
    "plt.text(0.95, mean_future, f'Mean: {mean_future:.2f}', color='blue', ha='right')\n",
    "\n",
    "\n",
    "# Add labels and title\n",
    "plt.ylabel('Latitudinal range')\n",
    "plt.title('Species Current Range VS. Future Range')\n",
    "\n",
    "# figure size\n",
    "plt.gcf().set_size_inches(8, 6)\n",
    "\n",
    "\n",
    "# Save the plot as a PDF file (vector graphic)\n",
    "plt.savefig('Range.pdf', format='pdf', dpi=300)\n",
    "\n",
    "# Show the plot\n",
    "plt.show()\n"
   ]
  },
  {
   "cell_type": "code",
   "execution_count": 6,
   "id": "45b67f72",
   "metadata": {},
   "outputs": [
    {
     "name": "stderr",
     "output_type": "stream",
     "text": [
      "C:\\Users\\arx33\\anaconda3\\envs\\IDS\\lib\\site-packages\\seaborn\\_oldcore.py:1498: FutureWarning: is_categorical_dtype is deprecated and will be removed in a future version. Use isinstance(dtype, CategoricalDtype) instead\n",
      "  if pd.api.types.is_categorical_dtype(vector):\n",
      "C:\\Users\\arx33\\anaconda3\\envs\\IDS\\lib\\site-packages\\seaborn\\_oldcore.py:1498: FutureWarning: is_categorical_dtype is deprecated and will be removed in a future version. Use isinstance(dtype, CategoricalDtype) instead\n",
      "  if pd.api.types.is_categorical_dtype(vector):\n"
     ]
    },
    {
     "data": {
      "image/png": "[encoded data removed]",
      "text/plain": [
       "<Figure size 800x600 with 1 Axes>"
      ]
     },
     "metadata": {},
     "output_type": "display_data"
    }
   ],
   "source": [
    "# boxplot for frequency\n",
    "sns.boxplot(data=merged_species[['Current Freq', 'Future Freq']])\n",
    "\n",
    "# Calculate mean values for current and future frequencies\n",
    "mean_current = merged_species['Current Freq'].mean()\n",
    "mean_future = merged_species['Future Freq'].mean()\n",
    "\n",
    "# Add mean values as text annotations\n",
    "plt.text(-0.01, mean_current, f'Mean: {mean_current:.2f}', color='red', ha='right')\n",
    "plt.text(0.99, mean_future, f'Mean: {mean_future:.2f}', color='blue', ha='right')\n",
    "\n",
    "# Add labels and title\n",
    "plt.ylabel('Species Frequency')\n",
    "plt.title('Species Current Frequency VS. Future Frequency')\n",
    "\n",
    "# figure size\n",
    "plt.gcf().set_size_inches(8, 6)\n",
    "\n",
    "# Save the plot as a PDF file (vector graphic)\n",
    "plt.savefig('Freq.pdf', format='pdf', dpi=300)\n",
    "\n",
    "# Show the plot\n",
    "plt.show()"
   ]
  },
  {
   "cell_type": "code",
   "execution_count": 7,
   "id": "184d36e5",
   "metadata": {},
   "outputs": [
    {
     "data": {
      "text/html": [
       "<div>\n",
       "<style scoped>\n",
       "    .dataframe tbody tr th:only-of-type {\n",
       "        vertical-align: middle;\n",
       "    }\n",
       "\n",
       "    .dataframe tbody tr th {\n",
       "        vertical-align: top;\n",
       "    }\n",
       "\n",
       "    .dataframe thead th {\n",
       "        text-align: right;\n",
       "    }\n",
       "</style>\n",
       "<table border=\"1\" class=\"dataframe\">\n",
       "  <thead>\n",
       "    <tr style=\"text-align: right;\">\n",
       "      <th></th>\n",
       "      <th>Cell_id</th>\n",
       "      <th>Cell_lat</th>\n",
       "      <th>FUT_BIO1</th>\n",
       "      <th>FUT_BIO2</th>\n",
       "      <th>FUT_BIO3</th>\n",
       "      <th>FUT_BIO4</th>\n",
       "      <th>FUT_BIO5</th>\n",
       "      <th>FUT_BIO6</th>\n",
       "      <th>FUT_BIO7</th>\n",
       "      <th>FUT_BIO8</th>\n",
       "      <th>...</th>\n",
       "      <th>BIO18MEAN</th>\n",
       "      <th>BIO19MEAN</th>\n",
       "      <th>BIO2MEAN</th>\n",
       "      <th>BIO3MEAN</th>\n",
       "      <th>BIO4MEAN</th>\n",
       "      <th>BIO5MEAN</th>\n",
       "      <th>BIO6MEAN</th>\n",
       "      <th>BIO7MEAN</th>\n",
       "      <th>BIO8MEAN</th>\n",
       "      <th>BIO9MEAN</th>\n",
       "    </tr>\n",
       "  </thead>\n",
       "  <tbody>\n",
       "    <tr>\n",
       "      <th>0</th>\n",
       "      <td>Cell_00001</td>\n",
       "      <td>45.180500</td>\n",
       "      <td>15.30830</td>\n",
       "      <td>9.95741</td>\n",
       "      <td>32.082401</td>\n",
       "      <td>804.299011</td>\n",
       "      <td>32.546299</td>\n",
       "      <td>1.502780</td>\n",
       "      <td>31.043501</td>\n",
       "      <td>14.162000</td>\n",
       "      <td>...</td>\n",
       "      <td>168.729004</td>\n",
       "      <td>159.382004</td>\n",
       "      <td>9.43227</td>\n",
       "      <td>31.076300</td>\n",
       "      <td>777.994995</td>\n",
       "      <td>28.203301</td>\n",
       "      <td>-2.14978</td>\n",
       "      <td>30.353100</td>\n",
       "      <td>12.820400</td>\n",
       "      <td>6.491620</td>\n",
       "    </tr>\n",
       "    <tr>\n",
       "      <th>1</th>\n",
       "      <td>Cell_00004</td>\n",
       "      <td>53.644901</td>\n",
       "      <td>11.56670</td>\n",
       "      <td>7.18333</td>\n",
       "      <td>34.679199</td>\n",
       "      <td>498.958008</td>\n",
       "      <td>23.662500</td>\n",
       "      <td>2.883330</td>\n",
       "      <td>20.779200</td>\n",
       "      <td>6.318750</td>\n",
       "      <td>...</td>\n",
       "      <td>162.024994</td>\n",
       "      <td>164.214996</td>\n",
       "      <td>6.94350</td>\n",
       "      <td>35.401100</td>\n",
       "      <td>470.592987</td>\n",
       "      <td>20.632799</td>\n",
       "      <td>1.01840</td>\n",
       "      <td>19.614401</td>\n",
       "      <td>4.995850</td>\n",
       "      <td>5.813990</td>\n",
       "    </tr>\n",
       "    <tr>\n",
       "      <th>2</th>\n",
       "      <td>Cell_00007</td>\n",
       "      <td>47.680500</td>\n",
       "      <td>8.31759</td>\n",
       "      <td>8.41204</td>\n",
       "      <td>32.494400</td>\n",
       "      <td>660.880981</td>\n",
       "      <td>23.150000</td>\n",
       "      <td>-2.740740</td>\n",
       "      <td>25.890699</td>\n",
       "      <td>16.117600</td>\n",
       "      <td>...</td>\n",
       "      <td>486.819000</td>\n",
       "      <td>250.082993</td>\n",
       "      <td>8.37158</td>\n",
       "      <td>32.380501</td>\n",
       "      <td>662.682007</td>\n",
       "      <td>18.716400</td>\n",
       "      <td>-7.08742</td>\n",
       "      <td>25.803801</td>\n",
       "      <td>13.211500</td>\n",
       "      <td>-2.640490</td>\n",
       "    </tr>\n",
       "    <tr>\n",
       "      <th>3</th>\n",
       "      <td>Cell_00010</td>\n",
       "      <td>37.274300</td>\n",
       "      <td>19.04060</td>\n",
       "      <td>8.71884</td>\n",
       "      <td>35.176800</td>\n",
       "      <td>592.041016</td>\n",
       "      <td>32.994202</td>\n",
       "      <td>8.204351</td>\n",
       "      <td>24.789900</td>\n",
       "      <td>15.842000</td>\n",
       "      <td>...</td>\n",
       "      <td>41.850601</td>\n",
       "      <td>138.195007</td>\n",
       "      <td>8.42159</td>\n",
       "      <td>36.389500</td>\n",
       "      <td>551.781982</td>\n",
       "      <td>29.628901</td>\n",
       "      <td>6.48115</td>\n",
       "      <td>23.147699</td>\n",
       "      <td>14.838400</td>\n",
       "      <td>23.342501</td>\n",
       "    </tr>\n",
       "    <tr>\n",
       "      <th>4</th>\n",
       "      <td>Cell_00013</td>\n",
       "      <td>63.680500</td>\n",
       "      <td>5.61759</td>\n",
       "      <td>7.50556</td>\n",
       "      <td>22.169399</td>\n",
       "      <td>906.932007</td>\n",
       "      <td>23.943500</td>\n",
       "      <td>-9.901850</td>\n",
       "      <td>33.845402</td>\n",
       "      <td>18.831499</td>\n",
       "      <td>...</td>\n",
       "      <td>221.194000</td>\n",
       "      <td>116.200996</td>\n",
       "      <td>8.34536</td>\n",
       "      <td>23.179701</td>\n",
       "      <td>967.161987</td>\n",
       "      <td>20.756399</td>\n",
       "      <td>-15.24580</td>\n",
       "      <td>36.002300</td>\n",
       "      <td>13.984400</td>\n",
       "      <td>-5.179370</td>\n",
       "    </tr>\n",
       "    <tr>\n",
       "      <th>...</th>\n",
       "      <td>...</td>\n",
       "      <td>...</td>\n",
       "      <td>...</td>\n",
       "      <td>...</td>\n",
       "      <td>...</td>\n",
       "      <td>...</td>\n",
       "      <td>...</td>\n",
       "      <td>...</td>\n",
       "      <td>...</td>\n",
       "      <td>...</td>\n",
       "      <td>...</td>\n",
       "      <td>...</td>\n",
       "      <td>...</td>\n",
       "      <td>...</td>\n",
       "      <td>...</td>\n",
       "      <td>...</td>\n",
       "      <td>...</td>\n",
       "      <td>...</td>\n",
       "      <td>...</td>\n",
       "      <td>...</td>\n",
       "      <td>...</td>\n",
       "    </tr>\n",
       "    <tr>\n",
       "      <th>3908</th>\n",
       "      <td>Cell_06912</td>\n",
       "      <td>64.453003</td>\n",
       "      <td>8.60000</td>\n",
       "      <td>3.96667</td>\n",
       "      <td>22.366699</td>\n",
       "      <td>521.000000</td>\n",
       "      <td>18.333300</td>\n",
       "      <td>0.533333</td>\n",
       "      <td>17.799999</td>\n",
       "      <td>9.566670</td>\n",
       "      <td>...</td>\n",
       "      <td>260.000000</td>\n",
       "      <td>391.000000</td>\n",
       "      <td>4.30064</td>\n",
       "      <td>23.353500</td>\n",
       "      <td>532.698975</td>\n",
       "      <td>15.423101</td>\n",
       "      <td>-2.99231</td>\n",
       "      <td>18.415400</td>\n",
       "      <td>6.152560</td>\n",
       "      <td>7.378210</td>\n",
       "    </tr>\n",
       "    <tr>\n",
       "      <th>3909</th>\n",
       "      <td>Cell_06913</td>\n",
       "      <td>59.477200</td>\n",
       "      <td>9.23333</td>\n",
       "      <td>6.60000</td>\n",
       "      <td>24.446699</td>\n",
       "      <td>750.773010</td>\n",
       "      <td>24.906700</td>\n",
       "      <td>-2.126670</td>\n",
       "      <td>27.033300</td>\n",
       "      <td>12.300000</td>\n",
       "      <td>...</td>\n",
       "      <td>205.000000</td>\n",
       "      <td>141.925995</td>\n",
       "      <td>6.93840</td>\n",
       "      <td>23.707199</td>\n",
       "      <td>798.004028</td>\n",
       "      <td>21.384300</td>\n",
       "      <td>-7.87468</td>\n",
       "      <td>29.259001</td>\n",
       "      <td>12.111100</td>\n",
       "      <td>1.754660</td>\n",
       "    </tr>\n",
       "    <tr>\n",
       "      <th>3910</th>\n",
       "      <td>Cell_06914</td>\n",
       "      <td>49.180500</td>\n",
       "      <td>11.70830</td>\n",
       "      <td>8.92870</td>\n",
       "      <td>33.935200</td>\n",
       "      <td>646.393982</td>\n",
       "      <td>27.400900</td>\n",
       "      <td>1.029630</td>\n",
       "      <td>26.371300</td>\n",
       "      <td>6.633330</td>\n",
       "      <td>...</td>\n",
       "      <td>211.242996</td>\n",
       "      <td>230.806000</td>\n",
       "      <td>8.57706</td>\n",
       "      <td>34.449200</td>\n",
       "      <td>618.515991</td>\n",
       "      <td>22.983900</td>\n",
       "      <td>-1.90483</td>\n",
       "      <td>24.888700</td>\n",
       "      <td>6.135030</td>\n",
       "      <td>6.137440</td>\n",
       "    </tr>\n",
       "    <tr>\n",
       "      <th>3911</th>\n",
       "      <td>Cell_06916</td>\n",
       "      <td>63.810600</td>\n",
       "      <td>6.48750</td>\n",
       "      <td>4.39167</td>\n",
       "      <td>28.174999</td>\n",
       "      <td>428.339996</td>\n",
       "      <td>15.164600</td>\n",
       "      <td>-0.422917</td>\n",
       "      <td>15.587500</td>\n",
       "      <td>6.108330</td>\n",
       "      <td>...</td>\n",
       "      <td>280.333008</td>\n",
       "      <td>345.614014</td>\n",
       "      <td>4.81083</td>\n",
       "      <td>29.818800</td>\n",
       "      <td>428.692993</td>\n",
       "      <td>13.232500</td>\n",
       "      <td>-2.90076</td>\n",
       "      <td>16.133301</td>\n",
       "      <td>1.316980</td>\n",
       "      <td>7.096130</td>\n",
       "    </tr>\n",
       "    <tr>\n",
       "      <th>3912</th>\n",
       "      <td>Cell_06918</td>\n",
       "      <td>50.680500</td>\n",
       "      <td>11.20740</td>\n",
       "      <td>9.59352</td>\n",
       "      <td>32.651901</td>\n",
       "      <td>750.690002</td>\n",
       "      <td>28.163000</td>\n",
       "      <td>-1.282410</td>\n",
       "      <td>29.445400</td>\n",
       "      <td>20.692600</td>\n",
       "      <td>...</td>\n",
       "      <td>248.917007</td>\n",
       "      <td>106.910004</td>\n",
       "      <td>9.30094</td>\n",
       "      <td>31.065399</td>\n",
       "      <td>773.133972</td>\n",
       "      <td>23.817801</td>\n",
       "      <td>-6.12006</td>\n",
       "      <td>29.937901</td>\n",
       "      <td>17.251801</td>\n",
       "      <td>-0.459065</td>\n",
       "    </tr>\n",
       "  </tbody>\n",
       "</table>\n",
       "<p>3913 rows × 41 columns</p>\n",
       "</div>"
      ],
      "text/plain": [
       "         Cell_id   Cell_lat  FUT_BIO1  FUT_BIO2   FUT_BIO3    FUT_BIO4  \\\n",
       "0     Cell_00001  45.180500  15.30830   9.95741  32.082401  804.299011   \n",
       "1     Cell_00004  53.644901  11.56670   7.18333  34.679199  498.958008   \n",
       "2     Cell_00007  47.680500   8.31759   8.41204  32.494400  660.880981   \n",
       "3     Cell_00010  37.274300  19.04060   8.71884  35.176800  592.041016   \n",
       "4     Cell_00013  63.680500   5.61759   7.50556  22.169399  906.932007   \n",
       "...          ...        ...       ...       ...        ...         ...   \n",
       "3908  Cell_06912  64.453003   8.60000   3.96667  22.366699  521.000000   \n",
       "3909  Cell_06913  59.477200   9.23333   6.60000  24.446699  750.773010   \n",
       "3910  Cell_06914  49.180500  11.70830   8.92870  33.935200  646.393982   \n",
       "3911  Cell_06916  63.810600   6.48750   4.39167  28.174999  428.339996   \n",
       "3912  Cell_06918  50.680500  11.20740   9.59352  32.651901  750.690002   \n",
       "\n",
       "       FUT_BIO5  FUT_BIO6   FUT_BIO7   FUT_BIO8  ...   BIO18MEAN   BIO19MEAN  \\\n",
       "0     32.546299  1.502780  31.043501  14.162000  ...  168.729004  159.382004   \n",
       "1     23.662500  2.883330  20.779200   6.318750  ...  162.024994  164.214996   \n",
       "2     23.150000 -2.740740  25.890699  16.117600  ...  486.819000  250.082993   \n",
       "3     32.994202  8.204351  24.789900  15.842000  ...   41.850601  138.195007   \n",
       "4     23.943500 -9.901850  33.845402  18.831499  ...  221.194000  116.200996   \n",
       "...         ...       ...        ...        ...  ...         ...         ...   \n",
       "3908  18.333300  0.533333  17.799999   9.566670  ...  260.000000  391.000000   \n",
       "3909  24.906700 -2.126670  27.033300  12.300000  ...  205.000000  141.925995   \n",
       "3910  27.400900  1.029630  26.371300   6.633330  ...  211.242996  230.806000   \n",
       "3911  15.164600 -0.422917  15.587500   6.108330  ...  280.333008  345.614014   \n",
       "3912  28.163000 -1.282410  29.445400  20.692600  ...  248.917007  106.910004   \n",
       "\n",
       "      BIO2MEAN   BIO3MEAN    BIO4MEAN   BIO5MEAN  BIO6MEAN   BIO7MEAN  \\\n",
       "0      9.43227  31.076300  777.994995  28.203301  -2.14978  30.353100   \n",
       "1      6.94350  35.401100  470.592987  20.632799   1.01840  19.614401   \n",
       "2      8.37158  32.380501  662.682007  18.716400  -7.08742  25.803801   \n",
       "3      8.42159  36.389500  551.781982  29.628901   6.48115  23.147699   \n",
       "4      8.34536  23.179701  967.161987  20.756399 -15.24580  36.002300   \n",
       "...        ...        ...         ...        ...       ...        ...   \n",
       "3908   4.30064  23.353500  532.698975  15.423101  -2.99231  18.415400   \n",
       "3909   6.93840  23.707199  798.004028  21.384300  -7.87468  29.259001   \n",
       "3910   8.57706  34.449200  618.515991  22.983900  -1.90483  24.888700   \n",
       "3911   4.81083  29.818800  428.692993  13.232500  -2.90076  16.133301   \n",
       "3912   9.30094  31.065399  773.133972  23.817801  -6.12006  29.937901   \n",
       "\n",
       "       BIO8MEAN   BIO9MEAN  \n",
       "0     12.820400   6.491620  \n",
       "1      4.995850   5.813990  \n",
       "2     13.211500  -2.640490  \n",
       "3     14.838400  23.342501  \n",
       "4     13.984400  -5.179370  \n",
       "...         ...        ...  \n",
       "3908   6.152560   7.378210  \n",
       "3909  12.111100   1.754660  \n",
       "3910   6.135030   6.137440  \n",
       "3911   1.316980   7.096130  \n",
       "3912  17.251801  -0.459065  \n",
       "\n",
       "[3913 rows x 41 columns]"
      ]
     },
     "execution_count": 7,
     "metadata": {},
     "output_type": "execute_result"
    }
   ],
   "source": [
    "# reading current and future bioclimatic variables for statistics\n",
    "df = pd.read_csv('Bioclim_variables_final.csv')\n",
    "df"
   ]
  },
  {
   "cell_type": "code",
   "execution_count": 12,
   "id": "94f39630",
   "metadata": {},
   "outputs": [
    {
     "name": "stdout",
     "output_type": "stream",
     "text": [
      "\n",
      "Descriptive statistics for current mean temperature:\n",
      "count    3913.000000\n",
      "mean        6.788148\n",
      "std         5.547380\n",
      "min       -12.748500\n",
      "25%         3.584700\n",
      "50%         7.654520\n",
      "75%        10.108500\n",
      "max        18.831600\n",
      "Name: BIO1MEAN, dtype: float64\n",
      "\n",
      "Descriptive statistics for current annual precipitation:\n",
      "count    3913.000000\n",
      "mean      756.882925\n",
      "std       336.772709\n",
      "min         0.000000\n",
      "25%       566.166992\n",
      "50%       645.541992\n",
      "75%       837.111023\n",
      "max      3391.050049\n",
      "Name: BIO12MEAN, dtype: float64\n",
      "\n",
      "Descriptive statistics for future mean temperature:\n",
      "count    3913.000000\n",
      "mean       10.022412\n",
      "std         4.800531\n",
      "min        -4.006480\n",
      "25%         6.960000\n",
      "50%        10.638900\n",
      "75%        12.966700\n",
      "max        21.166700\n",
      "Name: FUT_BIO1, dtype: float64\n",
      "\n",
      "Descriptive statistics for future annual precipitation:\n",
      "count    3913.000000\n",
      "mean      768.403183\n",
      "std       341.424970\n",
      "min       217.447006\n",
      "25%       578.283020\n",
      "50%       666.328979\n",
      "75%       832.099976\n",
      "max      3513.040039\n",
      "Name: FUT_BIO12, dtype: float64\n"
     ]
    }
   ],
   "source": [
    "# descriptive statistics for current mean temperature\n",
    "print()\n",
    "print(\"Descriptive statistics for current mean temperature:\")\n",
    "print(df[\"BIO1MEAN\"].describe())\n",
    "\n",
    "# descriptive statistics for current annual precipitation\n",
    "print()\n",
    "print(\"Descriptive statistics for current annual precipitation:\")\n",
    "print(df[\"BIO12MEAN\"].describe())\n",
    "\n",
    "# descriptive statistics for future mean temperature\n",
    "print()\n",
    "print(\"Descriptive statistics for future mean temperature:\")\n",
    "print(df[\"FUT_BIO1\"].describe())\n",
    "\n",
    "# descriptive statistics for future annual precipitation\n",
    "print()\n",
    "print(\"Descriptive statistics for future annual precipitation:\")\n",
    "print(df[\"FUT_BIO12\"].describe())"
   ]
  }
 ],
 "metadata": {
  "kernelspec": {
   "display_name": "Python 3 (ipykernel)",
   "language": "python",
   "name": "python3"
  },
  "language_info": {
   "codemirror_mode": {
    "name": "ipython",
    "version": 3
   },
   "file_extension": ".py",
   "mimetype": "text/x-python",
   "name": "python",
   "nbconvert_exporter": "python",
   "pygments_lexer": "ipython3",
   "version": "3.9.18"
  }
 },
 "nbformat": 4,
 "nbformat_minor": 5
}
